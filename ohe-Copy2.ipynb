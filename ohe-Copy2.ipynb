{
 "cells": [
  {
   "cell_type": "code",
   "execution_count": 1,
   "metadata": {},
   "outputs": [],
   "source": [
    "import pandas as pd\n",
    "import numpy as np\n",
    "import os\n",
    "import matplotlib.pyplot as plt\n",
    "from sklearn.cluster import KMeans\n",
    "import seaborn as sns\n",
    "%matplotlib inline"
   ]
  },
  {
   "cell_type": "code",
   "execution_count": 2,
   "metadata": {},
   "outputs": [
    {
     "data": {
      "text/plain": [
       "'/home/aimlTester/anaconda3-bak/bin/Sunil_py'"
      ]
     },
     "execution_count": 2,
     "metadata": {},
     "output_type": "execute_result"
    }
   ],
   "source": [
    "os.getcwd()"
   ]
  },
  {
   "cell_type": "code",
   "execution_count": 3,
   "metadata": {},
   "outputs": [],
   "source": [
    "path = '../../dumpfiles/update_naidu/'"
   ]
  },
  {
   "cell_type": "code",
   "execution_count": 4,
   "metadata": {},
   "outputs": [
    {
     "name": "stderr",
     "output_type": "stream",
     "text": [
      "/home/aimlTester/anaconda3/lib/python3.6/site-packages/IPython/core/interactiveshell.py:2785: DtypeWarning: Columns (9,10,12,14,27,36,66,91,92,93,100,108,114,129,146) have mixed types. Specify dtype option on import or set low_memory=False.\n",
      "  interactivity=interactivity, compiler=compiler, result=result)\n"
     ]
    }
   ],
   "source": [
    "df = pd.read_csv(path + 'PL_110_SEPT_2018.csv')"
   ]
  },
  {
   "cell_type": "code",
   "execution_count": 5,
   "metadata": {},
   "outputs": [
    {
     "data": {
      "text/html": [
       "<div>\n",
       "<style scoped>\n",
       "    .dataframe tbody tr th:only-of-type {\n",
       "        vertical-align: middle;\n",
       "    }\n",
       "\n",
       "    .dataframe tbody tr th {\n",
       "        vertical-align: top;\n",
       "    }\n",
       "\n",
       "    .dataframe thead th {\n",
       "        text-align: right;\n",
       "    }\n",
       "</style>\n",
       "<table border=\"1\" class=\"dataframe\">\n",
       "  <thead>\n",
       "    <tr style=\"text-align: right;\">\n",
       "      <th></th>\n",
       "      <th>CONTRACT_TYPE_CODE</th>\n",
       "      <th>CONTRACT_SUB_TYPE_ID</th>\n",
       "      <th>FRS_BU</th>\n",
       "      <th>DATA_SET_ID</th>\n",
       "      <th>ACCOUNT_TYPE</th>\n",
       "      <th>ACQ_IN_CAL_YR</th>\n",
       "      <th>ACQ_YEAR</th>\n",
       "      <th>ACTG_UNIT_ID</th>\n",
       "      <th>AR_X_IP_ROLE_TYP_CD</th>\n",
       "      <th>ARRG_ACQ_TYP_CD</th>\n",
       "      <th>...</th>\n",
       "      <th>SHR_AMT</th>\n",
       "      <th>SME_BU_PL</th>\n",
       "      <th>SOLD_RECOURSE_PL</th>\n",
       "      <th>SOP_3_FLAG</th>\n",
       "      <th>SUM_OF_NAT_SIGN_USD_AMOUNT</th>\n",
       "      <th>TDR_POST_JAN2008_IND</th>\n",
       "      <th>TRBLD_DEBT_RSTRU_FLAG</th>\n",
       "      <th>WHS_ORIG_FLAG</th>\n",
       "      <th>WRTY_RSRV_PL</th>\n",
       "      <th>SUM(BASE_CCY_AMT)</th>\n",
       "    </tr>\n",
       "  </thead>\n",
       "  <tbody>\n",
       "    <tr>\n",
       "      <th>0</th>\n",
       "      <td>LOANS</td>\n",
       "      <td>9</td>\n",
       "      <td>10501</td>\n",
       "      <td>110</td>\n",
       "      <td>A</td>\n",
       "      <td>N</td>\n",
       "      <td>NaN</td>\n",
       "      <td>1</td>\n",
       "      <td>NaN</td>\n",
       "      <td>ORGN</td>\n",
       "      <td>...</td>\n",
       "      <td>NaN</td>\n",
       "      <td>NaN</td>\n",
       "      <td>NaN</td>\n",
       "      <td>N</td>\n",
       "      <td>NaN</td>\n",
       "      <td>NaN</td>\n",
       "      <td>N</td>\n",
       "      <td>N</td>\n",
       "      <td>NaN</td>\n",
       "      <td>1639.44818</td>\n",
       "    </tr>\n",
       "    <tr>\n",
       "      <th>1</th>\n",
       "      <td>LOANS</td>\n",
       "      <td>9</td>\n",
       "      <td>10501</td>\n",
       "      <td>110</td>\n",
       "      <td>A</td>\n",
       "      <td>N</td>\n",
       "      <td>NaN</td>\n",
       "      <td>1</td>\n",
       "      <td>NaN</td>\n",
       "      <td>ORGN</td>\n",
       "      <td>...</td>\n",
       "      <td>NaN</td>\n",
       "      <td>NaN</td>\n",
       "      <td>NaN</td>\n",
       "      <td>N</td>\n",
       "      <td>NaN</td>\n",
       "      <td>NaN</td>\n",
       "      <td>N</td>\n",
       "      <td>N</td>\n",
       "      <td>NaN</td>\n",
       "      <td>10451.66618</td>\n",
       "    </tr>\n",
       "    <tr>\n",
       "      <th>2</th>\n",
       "      <td>LOANS</td>\n",
       "      <td>9</td>\n",
       "      <td>10501</td>\n",
       "      <td>110</td>\n",
       "      <td>A</td>\n",
       "      <td>N</td>\n",
       "      <td>NaN</td>\n",
       "      <td>1</td>\n",
       "      <td>NaN</td>\n",
       "      <td>ORGN</td>\n",
       "      <td>...</td>\n",
       "      <td>NaN</td>\n",
       "      <td>NaN</td>\n",
       "      <td>NaN</td>\n",
       "      <td>N</td>\n",
       "      <td>NaN</td>\n",
       "      <td>NaN</td>\n",
       "      <td>N</td>\n",
       "      <td>N</td>\n",
       "      <td>NaN</td>\n",
       "      <td>405.32350</td>\n",
       "    </tr>\n",
       "    <tr>\n",
       "      <th>3</th>\n",
       "      <td>LOANS</td>\n",
       "      <td>9</td>\n",
       "      <td>10501</td>\n",
       "      <td>110</td>\n",
       "      <td>A</td>\n",
       "      <td>N</td>\n",
       "      <td>NaN</td>\n",
       "      <td>1</td>\n",
       "      <td>NaN</td>\n",
       "      <td>ORGN</td>\n",
       "      <td>...</td>\n",
       "      <td>NaN</td>\n",
       "      <td>NaN</td>\n",
       "      <td>NaN</td>\n",
       "      <td>N</td>\n",
       "      <td>NaN</td>\n",
       "      <td>NaN</td>\n",
       "      <td>N</td>\n",
       "      <td>N</td>\n",
       "      <td>NaN</td>\n",
       "      <td>2217.13554</td>\n",
       "    </tr>\n",
       "    <tr>\n",
       "      <th>4</th>\n",
       "      <td>LOANS</td>\n",
       "      <td>9</td>\n",
       "      <td>10501</td>\n",
       "      <td>110</td>\n",
       "      <td>A</td>\n",
       "      <td>N</td>\n",
       "      <td>NaN</td>\n",
       "      <td>1</td>\n",
       "      <td>NaN</td>\n",
       "      <td>ORGN</td>\n",
       "      <td>...</td>\n",
       "      <td>NaN</td>\n",
       "      <td>NaN</td>\n",
       "      <td>NaN</td>\n",
       "      <td>N</td>\n",
       "      <td>NaN</td>\n",
       "      <td>NaN</td>\n",
       "      <td>N</td>\n",
       "      <td>N</td>\n",
       "      <td>NaN</td>\n",
       "      <td>15.58548</td>\n",
       "    </tr>\n",
       "  </tbody>\n",
       "</table>\n",
       "<p>5 rows × 153 columns</p>\n",
       "</div>"
      ],
      "text/plain": [
       "  CONTRACT_TYPE_CODE  CONTRACT_SUB_TYPE_ID  FRS_BU  DATA_SET_ID ACCOUNT_TYPE  \\\n",
       "0              LOANS                     9   10501          110            A   \n",
       "1              LOANS                     9   10501          110            A   \n",
       "2              LOANS                     9   10501          110            A   \n",
       "3              LOANS                     9   10501          110            A   \n",
       "4              LOANS                     9   10501          110            A   \n",
       "\n",
       "  ACQ_IN_CAL_YR  ACQ_YEAR  ACTG_UNIT_ID  AR_X_IP_ROLE_TYP_CD ARRG_ACQ_TYP_CD  \\\n",
       "0             N       NaN             1                  NaN            ORGN   \n",
       "1             N       NaN             1                  NaN            ORGN   \n",
       "2             N       NaN             1                  NaN            ORGN   \n",
       "3             N       NaN             1                  NaN            ORGN   \n",
       "4             N       NaN             1                  NaN            ORGN   \n",
       "\n",
       "         ...         SHR_AMT SME_BU_PL SOLD_RECOURSE_PL SOP_3_FLAG  \\\n",
       "0        ...             NaN       NaN              NaN          N   \n",
       "1        ...             NaN       NaN              NaN          N   \n",
       "2        ...             NaN       NaN              NaN          N   \n",
       "3        ...             NaN       NaN              NaN          N   \n",
       "4        ...             NaN       NaN              NaN          N   \n",
       "\n",
       "  SUM_OF_NAT_SIGN_USD_AMOUNT TDR_POST_JAN2008_IND TRBLD_DEBT_RSTRU_FLAG  \\\n",
       "0                        NaN                  NaN                     N   \n",
       "1                        NaN                  NaN                     N   \n",
       "2                        NaN                  NaN                     N   \n",
       "3                        NaN                  NaN                     N   \n",
       "4                        NaN                  NaN                     N   \n",
       "\n",
       "  WHS_ORIG_FLAG  WRTY_RSRV_PL  SUM(BASE_CCY_AMT)  \n",
       "0             N           NaN         1639.44818  \n",
       "1             N           NaN        10451.66618  \n",
       "2             N           NaN          405.32350  \n",
       "3             N           NaN         2217.13554  \n",
       "4             N           NaN           15.58548  \n",
       "\n",
       "[5 rows x 153 columns]"
      ]
     },
     "execution_count": 5,
     "metadata": {},
     "output_type": "execute_result"
    }
   ],
   "source": [
    "df.head()"
   ]
  },
  {
   "cell_type": "code",
   "execution_count": 6,
   "metadata": {
    "scrolled": true
   },
   "outputs": [
    {
     "data": {
      "text/plain": [
       "CONTRACT_TYPE_CODE                     0\n",
       "CONTRACT_SUB_TYPE_ID                   0\n",
       "FRS_BU                                 0\n",
       "DATA_SET_ID                            0\n",
       "ACCOUNT_TYPE                           0\n",
       "ACQ_IN_CAL_YR                      10137\n",
       "ACQ_YEAR                         2283081\n",
       "ACTG_UNIT_ID                           0\n",
       "AR_X_IP_ROLE_TYP_CD              2283081\n",
       "ARRG_ACQ_TYP_CD                   367174\n",
       "ARRG_BUS_INTENT_DT                934102\n",
       "ARRG_BUS_INTENT_TYP_CD                 0\n",
       "ARRG_FIN_STA_TYP_CD                 3468\n",
       "ARRG_MAT_TYP_CD                      679\n",
       "ARRG_PURP_TYP_CD                       0\n",
       "ARRG_TYP_CD                            0\n",
       "ARXIPRT_FICO_EQV_RTNG_CD_ORIG          0\n",
       "ARXIPRT_FICO_EQV_RTNG_CD_REF           0\n",
       "ARXRT_FLR_RATE                   2283081\n",
       "BACKED_BY_3RD_PARTY              2283081\n",
       "BAND_ARRG_ACQ_DT                 2283081\n",
       "BAND_ARRG_FIN_STA_DT                   0\n",
       "BAND_EST_END_DT                        0\n",
       "BAND_LN_ARRG_PDUE_DAY_CNT          64071\n",
       "BAND_LN_MDFY_DT                        0\n",
       "BAND_LN_ORIG_AMT                   65371\n",
       "BAND_REMN_MAT_MTHS                 22270\n",
       "BAND_RMN_MTHS_NXT_INT_RSET       1260050\n",
       "BASE_CCY_AMT                           0\n",
       "BASE_CCY_QTD_AMT                  960769\n",
       "                                  ...   \n",
       "OBL_RTNG_CD                      2283081\n",
       "OBL_RTNG_DESC                    2283081\n",
       "ORIG_INVR_INS_CAT_CD               31275\n",
       "PLDG_IND                             679\n",
       "PTCP_TYP_CD                      2283081\n",
       "REAL_ESTATE_INDUSTRY_CD          2283081\n",
       "REG_O_EMP_FLAG                    949694\n",
       "REITS_FLAG                       2283081\n",
       "REMN_DAYS_TO_MAT                   22421\n",
       "RESALE_IND_PL                    2283081\n",
       "REV_MTG_FLG_PL                   2283081\n",
       "RFIN_FLAG                              0\n",
       "RISK_MGT_TYP_CD                     1750\n",
       "ROLL_FORWARD_ACTIVITY_TYPE_PL    2283081\n",
       "RVSE_MTG_IND                     2283081\n",
       "SEC_BY_RE_FLAG                         0\n",
       "SEC_NAICS_INDUSTRY_CD            2283081\n",
       "SERV_FOR_OTH_FL_PL               2283081\n",
       "SERV_PRTF_PL                     2283081\n",
       "SETTLEMENT_RISK_AMT              2283081\n",
       "SHR_AMT                          2283081\n",
       "SME_BU_PL                        2283081\n",
       "SOLD_RECOURSE_PL                 2283081\n",
       "SOP_3_FLAG                       1675004\n",
       "SUM_OF_NAT_SIGN_USD_AMOUNT       2283081\n",
       "TDR_POST_JAN2008_IND             2283081\n",
       "TRBLD_DEBT_RSTRU_FLAG                  7\n",
       "WHS_ORIG_FLAG                          0\n",
       "WRTY_RSRV_PL                     2283081\n",
       "SUM(BASE_CCY_AMT)                      0\n",
       "Length: 153, dtype: int64"
      ]
     },
     "execution_count": 6,
     "metadata": {},
     "output_type": "execute_result"
    }
   ],
   "source": [
    "df.isnull().sum()"
   ]
  },
  {
   "cell_type": "code",
   "execution_count": 7,
   "metadata": {},
   "outputs": [
    {
     "data": {
      "text/plain": [
       "(2283081, 153)"
      ]
     },
     "execution_count": 7,
     "metadata": {},
     "output_type": "execute_result"
    }
   ],
   "source": [
    "df.shape"
   ]
  },
  {
   "cell_type": "code",
   "execution_count": 8,
   "metadata": {},
   "outputs": [],
   "source": [
    "list_null_col = []\n",
    "for col in list(df.columns):\n",
    "    if df[col].isnull().sum() == len(df):\n",
    "        list_null_col.append(col)"
   ]
  },
  {
   "cell_type": "code",
   "execution_count": 9,
   "metadata": {
    "scrolled": true
   },
   "outputs": [
    {
     "data": {
      "text/plain": [
       "['ACQ_YEAR',\n",
       " 'AR_X_IP_ROLE_TYP_CD',\n",
       " 'ARXRT_FLR_RATE',\n",
       " 'BACKED_BY_3RD_PARTY',\n",
       " 'BAND_ARRG_ACQ_DT',\n",
       " 'BASEL2_REGULATORY_SEGMNT',\n",
       " 'BORR_RTG_FLG_PL',\n",
       " 'BUS_COMBINATION_PL',\n",
       " 'CASA_OD_SINCE_DT',\n",
       " 'CFL_CR_LINE_UTLN_RAT',\n",
       " 'CFL_TRBLD_DEBT_RSTRUFLAG',\n",
       " 'CLEARING_RISK_AMT',\n",
       " 'CLTRL_FLAG',\n",
       " 'CR_FCL_TYP_CD',\n",
       " 'CR_FCL_TYP_DESC',\n",
       " 'CU_GF_INC_CTRY',\n",
       " 'CU_GF_INVLV_PTY_NAICS_CD',\n",
       " 'CURR_COMBN_LN_TO_VAL_PCT',\n",
       " 'CURR_LN_TO_VAL_PCT',\n",
       " 'DAYS_IN_TDR_PL',\n",
       " 'DC_CR_ACCT_TYP',\n",
       " 'DC_CR_CRGID',\n",
       " 'DC_CR_DMCL_CTRY_CD',\n",
       " 'DC_CR_INC_CTRY',\n",
       " 'DC_CR_INVLV_PTY_NAICS_CD',\n",
       " 'DC_CR_SUB_TYP_CD',\n",
       " 'DELIV_DT_PL',\n",
       " 'DPST_PROD_CAT_TYP_CD',\n",
       " 'EFFECTIVE_CCF',\n",
       " 'ELIG_FOR_OD_FLAG',\n",
       " 'FAC_RTNG_CD',\n",
       " 'FAC_RTNG_DESC',\n",
       " 'FCL_APPR_AMT',\n",
       " 'FED_NAICS_INDUSTRY_CD',\n",
       " 'FRS_AFFL_LGL_CD',\n",
       " 'GOVT_GTY_PL',\n",
       " 'GU_GF_DMCL_CTRY_CD',\n",
       " 'GU_GF_INC_CTRY',\n",
       " 'GU_GF_INVLV_PTY_NAICS_CD',\n",
       " 'GU_GF_SUB_TYP_CD',\n",
       " 'HEDGE_IND_PL',\n",
       " 'INT_RSET_INT_CD',\n",
       " 'INT_RSET_INT_DESC',\n",
       " 'INVST_GRD_IND',\n",
       " 'LIBOR_CONFIRM_ROLLOVER_PL',\n",
       " 'LN_DSPN_TYP_CD',\n",
       " 'LN_FLR_RATE',\n",
       " 'LN_INT_ACCR_STA_DT',\n",
       " 'LN_RATE_ID',\n",
       " 'LN_RATE_VARIABLT_TYP_SEC_RPT',\n",
       " 'LN_RES_TYP_CD',\n",
       " 'LTSC_GSE_PL',\n",
       " 'LTV_RATIO_PL',\n",
       " 'MARGN_LNS_ELG_PL',\n",
       " 'MTG_INVR_TYP_CD',\n",
       " 'NET_UNPAID_PRINCIPAL',\n",
       " 'NON_ACCR_CTRS_SLD_IN_QTR',\n",
       " 'NON_ACCR_STA_IN_QTR',\n",
       " 'NON_PURP_LNS_PL',\n",
       " 'NON_TRAD_MTG_PL',\n",
       " 'OBL_RTNG_CD',\n",
       " 'OBL_RTNG_DESC',\n",
       " 'PTCP_TYP_CD',\n",
       " 'REAL_ESTATE_INDUSTRY_CD',\n",
       " 'REITS_FLAG',\n",
       " 'RESALE_IND_PL',\n",
       " 'REV_MTG_FLG_PL',\n",
       " 'ROLL_FORWARD_ACTIVITY_TYPE_PL',\n",
       " 'RVSE_MTG_IND',\n",
       " 'SEC_NAICS_INDUSTRY_CD',\n",
       " 'SERV_FOR_OTH_FL_PL',\n",
       " 'SERV_PRTF_PL',\n",
       " 'SETTLEMENT_RISK_AMT',\n",
       " 'SHR_AMT',\n",
       " 'SME_BU_PL',\n",
       " 'SOLD_RECOURSE_PL',\n",
       " 'SUM_OF_NAT_SIGN_USD_AMOUNT',\n",
       " 'TDR_POST_JAN2008_IND',\n",
       " 'WRTY_RSRV_PL']"
      ]
     },
     "execution_count": 9,
     "metadata": {},
     "output_type": "execute_result"
    }
   ],
   "source": [
    "list_null_col"
   ]
  },
  {
   "cell_type": "code",
   "execution_count": 10,
   "metadata": {},
   "outputs": [
    {
     "data": {
      "text/plain": [
       "79"
      ]
     },
     "execution_count": 10,
     "metadata": {},
     "output_type": "execute_result"
    }
   ],
   "source": [
    "len(list_null_col)"
   ]
  },
  {
   "cell_type": "code",
   "execution_count": 11,
   "metadata": {
    "scrolled": true
   },
   "outputs": [],
   "source": [
    "pct_null = df.isnull().sum()/len(df)"
   ]
  },
  {
   "cell_type": "code",
   "execution_count": 12,
   "metadata": {},
   "outputs": [],
   "source": [
    "null_features = pct_null[pct_null > .80].index"
   ]
  },
  {
   "cell_type": "code",
   "execution_count": 13,
   "metadata": {},
   "outputs": [],
   "source": [
    "# full_features = pct_null[pct_null == 0].index\n",
    "# all_c = list(df.columns)\n",
    "# full_features = list(full_features)\n",
    "# null = (set(all_c) - set(full_features))\n",
    "# df.drop(null,axis = 1,inplace = True)"
   ]
  },
  {
   "cell_type": "code",
   "execution_count": 14,
   "metadata": {},
   "outputs": [
    {
     "data": {
      "text/plain": [
       "(80,)"
      ]
     },
     "execution_count": 14,
     "metadata": {},
     "output_type": "execute_result"
    }
   ],
   "source": [
    "null_features.shape"
   ]
  },
  {
   "cell_type": "code",
   "execution_count": 15,
   "metadata": {},
   "outputs": [],
   "source": [
    "df.drop(null_features,axis = 1,inplace = True)"
   ]
  },
  {
   "cell_type": "code",
   "execution_count": 16,
   "metadata": {},
   "outputs": [
    {
     "data": {
      "text/plain": [
       "(2283081, 73)"
      ]
     },
     "execution_count": 16,
     "metadata": {},
     "output_type": "execute_result"
    }
   ],
   "source": [
    "df.shape"
   ]
  },
  {
   "cell_type": "code",
   "execution_count": 17,
   "metadata": {
    "scrolled": true
   },
   "outputs": [
    {
     "data": {
      "text/plain": [
       "CONTRACT_TYPE_CODE                object\n",
       "CONTRACT_SUB_TYPE_ID               int64\n",
       "FRS_BU                             int64\n",
       "DATA_SET_ID                        int64\n",
       "ACCOUNT_TYPE                      object\n",
       "ACQ_IN_CAL_YR                     object\n",
       "ACTG_UNIT_ID                       int64\n",
       "ARRG_ACQ_TYP_CD                   object\n",
       "ARRG_BUS_INTENT_DT                object\n",
       "ARRG_BUS_INTENT_TYP_CD            object\n",
       "ARRG_FIN_STA_TYP_CD               object\n",
       "ARRG_MAT_TYP_CD                   object\n",
       "ARRG_PURP_TYP_CD                  object\n",
       "ARRG_TYP_CD                       object\n",
       "ARXIPRT_FICO_EQV_RTNG_CD_ORIG     object\n",
       "ARXIPRT_FICO_EQV_RTNG_CD_REF      object\n",
       "BAND_ARRG_FIN_STA_DT              object\n",
       "BAND_EST_END_DT                   object\n",
       "BAND_LN_ARRG_PDUE_DAY_CNT         object\n",
       "BAND_LN_MDFY_DT                   object\n",
       "BAND_LN_ORIG_AMT                  object\n",
       "BAND_REMN_MAT_MTHS                object\n",
       "BAND_RMN_MTHS_NXT_INT_RSET        object\n",
       "BASE_CCY_AMT                     float64\n",
       "BASE_CCY_QTD_AMT                 float64\n",
       "CITI_RCRS_IND                     object\n",
       "CU_GF_DMCL_CTRY_CD                object\n",
       "CU_GF_SUB_TYP_CD                  object\n",
       "DAYS_ARRG_BUS_INTENT             float64\n",
       "DAYS_ARRG_FIN_STA                float64\n",
       "                                  ...   \n",
       "FRS_BU_1                           int64\n",
       "FRS_BU_LGL_CD                      int64\n",
       "LIEN_POSN_TYP_CD                  object\n",
       "LN_ARRG_FIN_STA_DT                object\n",
       "LN_ARRG_SCR_TYP_CD                object\n",
       "LN_FAIR_VAL_OPT_IND               object\n",
       "LN_FIN_SV_LIMIT_TYP_CD            object\n",
       "LN_INT_ACCR_STAT_TYP_CD           object\n",
       "LN_LIEN_POS_TP_ID                 object\n",
       "LN_NEG_AMORT_FLAG                 object\n",
       "LN_RATE_RSET_PERD_INT_ID           int64\n",
       "LN_RATE_VARIABLT_TYP_CD           object\n",
       "LN_TAX_EXMP_IND                   object\n",
       "LOSS_MITG_STRT_DT                 object\n",
       "LV_DMC_CTRY                       object\n",
       "MATURITY_DAYS                    float64\n",
       "MDFY_TYP_CD                       object\n",
       "MGT_BU_PL                         object\n",
       "NON_PROFIT_FLAG                   object\n",
       "ORIG_INVR_INS_CAT_CD              object\n",
       "PLDG_IND                          object\n",
       "REG_O_EMP_FLAG                    object\n",
       "REMN_DAYS_TO_MAT                 float64\n",
       "RFIN_FLAG                         object\n",
       "RISK_MGT_TYP_CD                   object\n",
       "SEC_BY_RE_FLAG                    object\n",
       "SOP_3_FLAG                        object\n",
       "TRBLD_DEBT_RSTRU_FLAG             object\n",
       "WHS_ORIG_FLAG                     object\n",
       "SUM(BASE_CCY_AMT)                float64\n",
       "Length: 73, dtype: object"
      ]
     },
     "execution_count": 17,
     "metadata": {},
     "output_type": "execute_result"
    }
   ],
   "source": [
    "df.dtypes"
   ]
  },
  {
   "cell_type": "code",
   "execution_count": 18,
   "metadata": {},
   "outputs": [],
   "source": [
    "data_float = []\n",
    "data_obj = []\n",
    "data_int = []\n",
    "for col in list(df.columns):\n",
    "    if df[col].dtypes == 'float64':\n",
    "        data_float.append(col)\n",
    "    if df[col].dtypes == 'object':\n",
    "        data_obj.append(col)\n",
    "    if df[col].dtypes == 'int64':\n",
    "        data_int.append(col)"
   ]
  },
  {
   "cell_type": "markdown",
   "metadata": {},
   "source": [
    "# fill missing value"
   ]
  },
  {
   "cell_type": "code",
   "execution_count": 19,
   "metadata": {},
   "outputs": [],
   "source": [
    "#float datatype column missing value fill by mode\n",
    "mode = df.filter(data_float).mode()\n",
    "cols = data_float\n",
    "df[cols]=df[cols].fillna(df.mode().iloc[0])"
   ]
  },
  {
   "cell_type": "code",
   "execution_count": 20,
   "metadata": {},
   "outputs": [],
   "source": [
    "#object datatype column missing value fill by mode\n",
    "mode = df.filter(data_obj).mode()\n",
    "cols = data_obj\n",
    "df[cols]=df[cols].fillna(df.mode().iloc[0])"
   ]
  },
  {
   "cell_type": "code",
   "execution_count": 21,
   "metadata": {},
   "outputs": [],
   "source": [
    "#integer datatype column missing value fill by zero\n",
    "cols = data_int\n",
    "df[cols]=df[cols].fillna(0)"
   ]
  },
  {
   "cell_type": "code",
   "execution_count": 22,
   "metadata": {},
   "outputs": [],
   "source": [
    "df.fillna(0,inplace = True)"
   ]
  },
  {
   "cell_type": "markdown",
   "metadata": {},
   "source": [
    "# Spliting data Frame into (float+int) and object datatype"
   ]
  },
  {
   "cell_type": "code",
   "execution_count": null,
   "metadata": {},
   "outputs": [],
   "source": [
    "# df_float_int = pd.DataFrame()\n",
    "# for col in list(df.columns):\n",
    "#     if df[col].dtypes == 'float64' or df[col].dtypes == 'int64':\n",
    "#         df_float_int = pd.concat([df_float_int,df[col]],axis = 1)"
   ]
  },
  {
   "cell_type": "code",
   "execution_count": null,
   "metadata": {},
   "outputs": [],
   "source": [
    "# df_obj = pd.DataFrame()\n",
    "# for col in list(df.columns):\n",
    "#     if df[col].dtypes == 'object':\n",
    "#         df_obj = pd.concat([df_obj,df[col]],axis = 1)"
   ]
  },
  {
   "cell_type": "code",
   "execution_count": null,
   "metadata": {},
   "outputs": [],
   "source": [
    "# df_float_int.head()"
   ]
  },
  {
   "cell_type": "markdown",
   "metadata": {},
   "source": [
    "# get_dummies(one hot encoding)"
   ]
  },
  {
   "cell_type": "code",
   "execution_count": 23,
   "metadata": {},
   "outputs": [
    {
     "data": {
      "text/plain": [
       "(2283081, 73)"
      ]
     },
     "execution_count": 23,
     "metadata": {},
     "output_type": "execute_result"
    }
   ],
   "source": [
    "df.shape"
   ]
  },
  {
   "cell_type": "code",
   "execution_count": 24,
   "metadata": {},
   "outputs": [
    {
     "data": {
      "text/plain": [
       "(2283081, 67)"
      ]
     },
     "execution_count": 24,
     "metadata": {},
     "output_type": "execute_result"
    }
   ],
   "source": [
    "ignore_col = ['CONTRACT_SUB_TYPE_ID','DATA_SET_ID','LOSS_MITG_STRT_DT','LN_ARRG_FIN_STA_DT','ARRG_BUS_INTENT_DT','FRS_BU_1']\n",
    "df.drop(ignore_col, axis=1, inplace=True)\n",
    "df.shape"
   ]
  },
  {
   "cell_type": "code",
   "execution_count": 25,
   "metadata": {},
   "outputs": [],
   "source": [
    "df['FRS_BU']=df['FRS_BU'].astype('object')\n",
    "df['FRS_AFFL_CD']=df['FRS_AFFL_CD'].astype('object')\n",
    "df['FRS_BU_LGL_CD']=df['FRS_BU_LGL_CD'].astype('object')\n",
    "df['LN_RATE_RSET_PERD_INT_ID']=df['LN_RATE_RSET_PERD_INT_ID'].astype('object')\n",
    "df['ENTRPS_PROD_CD']=df['ENTRPS_PROD_CD'].astype('object')\n",
    "df['ACTG_UNIT_ID']=df['ACTG_UNIT_ID'].astype('object')"
   ]
  },
  {
   "cell_type": "code",
   "execution_count": 26,
   "metadata": {
    "scrolled": false
   },
   "outputs": [
    {
     "data": {
      "text/plain": [
       "Index(['CONTRACT_TYPE_CODE', 'FRS_BU', 'ACCOUNT_TYPE', 'ACQ_IN_CAL_YR',\n",
       "       'ACTG_UNIT_ID', 'ARRG_ACQ_TYP_CD', 'ARRG_BUS_INTENT_TYP_CD',\n",
       "       'ARRG_FIN_STA_TYP_CD', 'ARRG_MAT_TYP_CD', 'ARRG_PURP_TYP_CD',\n",
       "       'ARRG_TYP_CD', 'ARXIPRT_FICO_EQV_RTNG_CD_ORIG',\n",
       "       'ARXIPRT_FICO_EQV_RTNG_CD_REF', 'BAND_ARRG_FIN_STA_DT',\n",
       "       'BAND_EST_END_DT', 'BAND_LN_ARRG_PDUE_DAY_CNT', 'BAND_LN_MDFY_DT',\n",
       "       'BAND_LN_ORIG_AMT', 'BAND_REMN_MAT_MTHS', 'BAND_RMN_MTHS_NXT_INT_RSET',\n",
       "       'CITI_RCRS_IND', 'CU_GF_DMCL_CTRY_CD', 'CU_GF_SUB_TYP_CD',\n",
       "       'ENTRPS_PROD_CD', 'FAIR_VAL_LVL', 'FAS114_FLAG', 'FAS114_SP_ALL_FLAG',\n",
       "       'FAS5_FLAG', 'FDL_PMF_ACCT', 'FICO_EQV_RTNG_CD', 'FIN_SERV_TYP_CD',\n",
       "       'FRS_ACCOUNT_CLASS', 'FRS_AFFL_CD', 'FRS_AFFL_ICE', 'FRS_BU_LGL_CD',\n",
       "       'LIEN_POSN_TYP_CD', 'LN_ARRG_SCR_TYP_CD', 'LN_FAIR_VAL_OPT_IND',\n",
       "       'LN_FIN_SV_LIMIT_TYP_CD', 'LN_INT_ACCR_STAT_TYP_CD',\n",
       "       'LN_LIEN_POS_TP_ID', 'LN_NEG_AMORT_FLAG', 'LN_RATE_RSET_PERD_INT_ID',\n",
       "       'LN_RATE_VARIABLT_TYP_CD', 'LN_TAX_EXMP_IND', 'LV_DMC_CTRY',\n",
       "       'MDFY_TYP_CD', 'MGT_BU_PL', 'NON_PROFIT_FLAG', 'ORIG_INVR_INS_CAT_CD',\n",
       "       'PLDG_IND', 'REG_O_EMP_FLAG', 'RFIN_FLAG', 'RISK_MGT_TYP_CD',\n",
       "       'SEC_BY_RE_FLAG', 'SOP_3_FLAG', 'TRBLD_DEBT_RSTRU_FLAG',\n",
       "       'WHS_ORIG_FLAG'],\n",
       "      dtype='object')"
      ]
     },
     "execution_count": 26,
     "metadata": {},
     "output_type": "execute_result"
    }
   ],
   "source": [
    "categorical_Attributes = df.select_dtypes(include=['object']).columns\n",
    "categorical_Attributes"
   ]
  },
  {
   "cell_type": "code",
   "execution_count": 28,
   "metadata": {},
   "outputs": [],
   "source": [
    "df1 = df.copy()"
   ]
  },
  {
   "cell_type": "code",
   "execution_count": 30,
   "metadata": {},
   "outputs": [],
   "source": [
    "for col in list(categorical_Attributes):\n",
    "    df1[col] = df1[col].astype(str)"
   ]
  },
  {
   "cell_type": "code",
   "execution_count": 31,
   "metadata": {},
   "outputs": [],
   "source": [
    "all_col = list(df.columns)\n",
    "categorical_Attributes = list(categorical_Attributes)\n",
    "numerical_Attributes = list(set(all_col) - set(categorical_Attributes))"
   ]
  },
  {
   "cell_type": "code",
   "execution_count": 32,
   "metadata": {},
   "outputs": [],
   "source": [
    "from sklearn import preprocessing\n",
    "from sklearn.preprocessing import MinMaxScaler \n",
    "scaler = preprocessing.MinMaxScaler().fit(df1[numerical_Attributes]) \n",
    "df1[numerical_Attributes] = scaler.transform(df1[numerical_Attributes])"
   ]
  },
  {
   "cell_type": "code",
   "execution_count": 33,
   "metadata": {},
   "outputs": [
    {
     "name": "stdout",
     "output_type": "stream",
     "text": [
      "Encoding CONTRACT_TYPE_CODE\n",
      "Encoding FRS_BU\n",
      "Encoding ACCOUNT_TYPE\n",
      "Encoding ACQ_IN_CAL_YR\n",
      "Encoding ACTG_UNIT_ID\n",
      "Encoding ARRG_ACQ_TYP_CD\n",
      "Encoding ARRG_BUS_INTENT_TYP_CD\n",
      "Encoding ARRG_FIN_STA_TYP_CD\n"
     ]
    },
    {
     "ename": "TypeError",
     "evalue": "'<' not supported between instances of 'int' and 'str'",
     "output_type": "error",
     "traceback": [
      "\u001b[0;31m---------------------------------------------------------------------------\u001b[0m",
      "\u001b[0;31mTypeError\u001b[0m                                 Traceback (most recent call last)",
      "\u001b[0;32m<ipython-input-33-2c955107be66>\u001b[0m in \u001b[0;36m<module>\u001b[0;34m()\u001b[0m\n\u001b[1;32m      5\u001b[0m     \u001b[0mprint\u001b[0m\u001b[0;34m(\u001b[0m\u001b[0;34m\"Encoding {}\"\u001b[0m\u001b[0;34m.\u001b[0m\u001b[0mformat\u001b[0m\u001b[0;34m(\u001b[0m\u001b[0mcol\u001b[0m\u001b[0;34m)\u001b[0m\u001b[0;34m)\u001b[0m\u001b[0;34m\u001b[0m\u001b[0m\n\u001b[1;32m      6\u001b[0m     \u001b[0mnew_le\u001b[0m \u001b[0;34m=\u001b[0m \u001b[0mLabelEncoder\u001b[0m\u001b[0;34m(\u001b[0m\u001b[0;34m)\u001b[0m\u001b[0;34m\u001b[0m\u001b[0m\n\u001b[0;32m----> 7\u001b[0;31m     \u001b[0mdf_processed\u001b[0m\u001b[0;34m[\u001b[0m\u001b[0mcol\u001b[0m\u001b[0;34m]\u001b[0m \u001b[0;34m=\u001b[0m \u001b[0mnew_le\u001b[0m\u001b[0;34m.\u001b[0m\u001b[0mfit_transform\u001b[0m\u001b[0;34m(\u001b[0m\u001b[0mdf\u001b[0m\u001b[0;34m[\u001b[0m\u001b[0mcol\u001b[0m\u001b[0;34m]\u001b[0m\u001b[0;34m)\u001b[0m\u001b[0;34m\u001b[0m\u001b[0m\n\u001b[0m\u001b[1;32m      8\u001b[0m     \u001b[0mlabel_encoders\u001b[0m\u001b[0;34m[\u001b[0m\u001b[0mcol\u001b[0m\u001b[0;34m]\u001b[0m \u001b[0;34m=\u001b[0m \u001b[0mnew_le\u001b[0m\u001b[0;34m\u001b[0m\u001b[0m\n",
      "\u001b[0;32m~/anaconda3/lib/python3.6/site-packages/sklearn/preprocessing/label.py\u001b[0m in \u001b[0;36mfit_transform\u001b[0;34m(self, y)\u001b[0m\n\u001b[1;32m    110\u001b[0m         \"\"\"\n\u001b[1;32m    111\u001b[0m         \u001b[0my\u001b[0m \u001b[0;34m=\u001b[0m \u001b[0mcolumn_or_1d\u001b[0m\u001b[0;34m(\u001b[0m\u001b[0my\u001b[0m\u001b[0;34m,\u001b[0m \u001b[0mwarn\u001b[0m\u001b[0;34m=\u001b[0m\u001b[0;32mTrue\u001b[0m\u001b[0;34m)\u001b[0m\u001b[0;34m\u001b[0m\u001b[0m\n\u001b[0;32m--> 112\u001b[0;31m         \u001b[0mself\u001b[0m\u001b[0;34m.\u001b[0m\u001b[0mclasses_\u001b[0m\u001b[0;34m,\u001b[0m \u001b[0my\u001b[0m \u001b[0;34m=\u001b[0m \u001b[0mnp\u001b[0m\u001b[0;34m.\u001b[0m\u001b[0munique\u001b[0m\u001b[0;34m(\u001b[0m\u001b[0my\u001b[0m\u001b[0;34m,\u001b[0m \u001b[0mreturn_inverse\u001b[0m\u001b[0;34m=\u001b[0m\u001b[0;32mTrue\u001b[0m\u001b[0;34m)\u001b[0m\u001b[0;34m\u001b[0m\u001b[0m\n\u001b[0m\u001b[1;32m    113\u001b[0m         \u001b[0;32mreturn\u001b[0m \u001b[0my\u001b[0m\u001b[0;34m\u001b[0m\u001b[0m\n\u001b[1;32m    114\u001b[0m \u001b[0;34m\u001b[0m\u001b[0m\n",
      "\u001b[0;32m~/anaconda3/lib/python3.6/site-packages/numpy/lib/arraysetops.py\u001b[0m in \u001b[0;36munique\u001b[0;34m(ar, return_index, return_inverse, return_counts, axis)\u001b[0m\n\u001b[1;32m    221\u001b[0m     \u001b[0mar\u001b[0m \u001b[0;34m=\u001b[0m \u001b[0mnp\u001b[0m\u001b[0;34m.\u001b[0m\u001b[0masanyarray\u001b[0m\u001b[0;34m(\u001b[0m\u001b[0mar\u001b[0m\u001b[0;34m)\u001b[0m\u001b[0;34m\u001b[0m\u001b[0m\n\u001b[1;32m    222\u001b[0m     \u001b[0;32mif\u001b[0m \u001b[0maxis\u001b[0m \u001b[0;32mis\u001b[0m \u001b[0;32mNone\u001b[0m\u001b[0;34m:\u001b[0m\u001b[0;34m\u001b[0m\u001b[0m\n\u001b[0;32m--> 223\u001b[0;31m         \u001b[0;32mreturn\u001b[0m \u001b[0m_unique1d\u001b[0m\u001b[0;34m(\u001b[0m\u001b[0mar\u001b[0m\u001b[0;34m,\u001b[0m \u001b[0mreturn_index\u001b[0m\u001b[0;34m,\u001b[0m \u001b[0mreturn_inverse\u001b[0m\u001b[0;34m,\u001b[0m \u001b[0mreturn_counts\u001b[0m\u001b[0;34m)\u001b[0m\u001b[0;34m\u001b[0m\u001b[0m\n\u001b[0m\u001b[1;32m    224\u001b[0m     \u001b[0;32mif\u001b[0m \u001b[0;32mnot\u001b[0m \u001b[0;34m(\u001b[0m\u001b[0;34m-\u001b[0m\u001b[0mar\u001b[0m\u001b[0;34m.\u001b[0m\u001b[0mndim\u001b[0m \u001b[0;34m<=\u001b[0m \u001b[0maxis\u001b[0m \u001b[0;34m<\u001b[0m \u001b[0mar\u001b[0m\u001b[0;34m.\u001b[0m\u001b[0mndim\u001b[0m\u001b[0;34m)\u001b[0m\u001b[0;34m:\u001b[0m\u001b[0;34m\u001b[0m\u001b[0m\n\u001b[1;32m    225\u001b[0m         \u001b[0;32mraise\u001b[0m \u001b[0mValueError\u001b[0m\u001b[0;34m(\u001b[0m\u001b[0;34m'Invalid axis kwarg specified for unique'\u001b[0m\u001b[0;34m)\u001b[0m\u001b[0;34m\u001b[0m\u001b[0m\n",
      "\u001b[0;32m~/anaconda3/lib/python3.6/site-packages/numpy/lib/arraysetops.py\u001b[0m in \u001b[0;36m_unique1d\u001b[0;34m(ar, return_index, return_inverse, return_counts)\u001b[0m\n\u001b[1;32m    278\u001b[0m \u001b[0;34m\u001b[0m\u001b[0m\n\u001b[1;32m    279\u001b[0m     \u001b[0;32mif\u001b[0m \u001b[0moptional_indices\u001b[0m\u001b[0;34m:\u001b[0m\u001b[0;34m\u001b[0m\u001b[0m\n\u001b[0;32m--> 280\u001b[0;31m         \u001b[0mperm\u001b[0m \u001b[0;34m=\u001b[0m \u001b[0mar\u001b[0m\u001b[0;34m.\u001b[0m\u001b[0margsort\u001b[0m\u001b[0;34m(\u001b[0m\u001b[0mkind\u001b[0m\u001b[0;34m=\u001b[0m\u001b[0;34m'mergesort'\u001b[0m \u001b[0;32mif\u001b[0m \u001b[0mreturn_index\u001b[0m \u001b[0;32melse\u001b[0m \u001b[0;34m'quicksort'\u001b[0m\u001b[0;34m)\u001b[0m\u001b[0;34m\u001b[0m\u001b[0m\n\u001b[0m\u001b[1;32m    281\u001b[0m         \u001b[0maux\u001b[0m \u001b[0;34m=\u001b[0m \u001b[0mar\u001b[0m\u001b[0;34m[\u001b[0m\u001b[0mperm\u001b[0m\u001b[0;34m]\u001b[0m\u001b[0;34m\u001b[0m\u001b[0m\n\u001b[1;32m    282\u001b[0m     \u001b[0;32melse\u001b[0m\u001b[0;34m:\u001b[0m\u001b[0;34m\u001b[0m\u001b[0m\n",
      "\u001b[0;31mTypeError\u001b[0m: '<' not supported between instances of 'int' and 'str'"
     ]
    }
   ],
   "source": [
    "from sklearn.preprocessing import LabelEncoder, OneHotEncoder\n",
    "label_encoders = {}\n",
    "df_processed = pd.DataFrame()\n",
    "for col in categorical_Attributes:\n",
    "    print(\"Encoding {}\".format(col))\n",
    "    new_le = LabelEncoder()\n",
    "    df_processed[col] = new_le.fit_transform(df[col])\n",
    "    label_encoders[col] = new_le"
   ]
  },
  {
   "cell_type": "code",
   "execution_count": 39,
   "metadata": {},
   "outputs": [
    {
     "data": {
      "text/html": [
       "<div>\n",
       "<style scoped>\n",
       "    .dataframe tbody tr th:only-of-type {\n",
       "        vertical-align: middle;\n",
       "    }\n",
       "\n",
       "    .dataframe tbody tr th {\n",
       "        vertical-align: top;\n",
       "    }\n",
       "\n",
       "    .dataframe thead th {\n",
       "        text-align: right;\n",
       "    }\n",
       "</style>\n",
       "<table border=\"1\" class=\"dataframe\">\n",
       "  <thead>\n",
       "    <tr style=\"text-align: right;\">\n",
       "      <th></th>\n",
       "      <th>CONTRACT_TYPE_CODE</th>\n",
       "      <th>FRS_BU</th>\n",
       "      <th>ACCOUNT_TYPE</th>\n",
       "      <th>ACQ_IN_CAL_YR</th>\n",
       "      <th>ACTG_UNIT_ID</th>\n",
       "      <th>ARRG_ACQ_TYP_CD</th>\n",
       "      <th>ARRG_BUS_INTENT_TYP_CD</th>\n",
       "      <th>ARRG_FIN_STA_TYP_CD</th>\n",
       "      <th>ARRG_MAT_TYP_CD</th>\n",
       "      <th>ARRG_PURP_TYP_CD</th>\n",
       "      <th>...</th>\n",
       "      <th>PLDG_IND</th>\n",
       "      <th>REG_O_EMP_FLAG</th>\n",
       "      <th>REMN_DAYS_TO_MAT</th>\n",
       "      <th>RFIN_FLAG</th>\n",
       "      <th>RISK_MGT_TYP_CD</th>\n",
       "      <th>SEC_BY_RE_FLAG</th>\n",
       "      <th>SOP_3_FLAG</th>\n",
       "      <th>TRBLD_DEBT_RSTRU_FLAG</th>\n",
       "      <th>WHS_ORIG_FLAG</th>\n",
       "      <th>SUM(BASE_CCY_AMT)</th>\n",
       "    </tr>\n",
       "  </thead>\n",
       "  <tbody>\n",
       "    <tr>\n",
       "      <th>0</th>\n",
       "      <td>LOANS</td>\n",
       "      <td>10501</td>\n",
       "      <td>A</td>\n",
       "      <td>N</td>\n",
       "      <td>1</td>\n",
       "      <td>ORGN</td>\n",
       "      <td>HFI</td>\n",
       "      <td>Current</td>\n",
       "      <td>FIXED</td>\n",
       "      <td>1.</td>\n",
       "      <td>...</td>\n",
       "      <td>N</td>\n",
       "      <td>N</td>\n",
       "      <td>0.003987</td>\n",
       "      <td>R</td>\n",
       "      <td>D</td>\n",
       "      <td>N</td>\n",
       "      <td>N</td>\n",
       "      <td>N</td>\n",
       "      <td>N</td>\n",
       "      <td>0.498663</td>\n",
       "    </tr>\n",
       "    <tr>\n",
       "      <th>1</th>\n",
       "      <td>LOANS</td>\n",
       "      <td>10501</td>\n",
       "      <td>A</td>\n",
       "      <td>N</td>\n",
       "      <td>1</td>\n",
       "      <td>ORGN</td>\n",
       "      <td>HFI</td>\n",
       "      <td>PDDLQNT</td>\n",
       "      <td>FIXED</td>\n",
       "      <td>1.</td>\n",
       "      <td>...</td>\n",
       "      <td>N</td>\n",
       "      <td>N</td>\n",
       "      <td>0.003987</td>\n",
       "      <td>R</td>\n",
       "      <td>D</td>\n",
       "      <td>N</td>\n",
       "      <td>N</td>\n",
       "      <td>N</td>\n",
       "      <td>N</td>\n",
       "      <td>0.498665</td>\n",
       "    </tr>\n",
       "    <tr>\n",
       "      <th>2</th>\n",
       "      <td>LOANS</td>\n",
       "      <td>10501</td>\n",
       "      <td>A</td>\n",
       "      <td>N</td>\n",
       "      <td>1</td>\n",
       "      <td>ORGN</td>\n",
       "      <td>HFI</td>\n",
       "      <td>Current</td>\n",
       "      <td>FIXED</td>\n",
       "      <td>1.</td>\n",
       "      <td>...</td>\n",
       "      <td>N</td>\n",
       "      <td>N</td>\n",
       "      <td>0.003987</td>\n",
       "      <td>R</td>\n",
       "      <td>D</td>\n",
       "      <td>N</td>\n",
       "      <td>N</td>\n",
       "      <td>N</td>\n",
       "      <td>N</td>\n",
       "      <td>0.498662</td>\n",
       "    </tr>\n",
       "    <tr>\n",
       "      <th>3</th>\n",
       "      <td>LOANS</td>\n",
       "      <td>10501</td>\n",
       "      <td>A</td>\n",
       "      <td>N</td>\n",
       "      <td>1</td>\n",
       "      <td>ORGN</td>\n",
       "      <td>HFI</td>\n",
       "      <td>Current</td>\n",
       "      <td>FIXED</td>\n",
       "      <td>1.</td>\n",
       "      <td>...</td>\n",
       "      <td>N</td>\n",
       "      <td>N</td>\n",
       "      <td>0.003987</td>\n",
       "      <td>R</td>\n",
       "      <td>D</td>\n",
       "      <td>N</td>\n",
       "      <td>N</td>\n",
       "      <td>N</td>\n",
       "      <td>N</td>\n",
       "      <td>0.498663</td>\n",
       "    </tr>\n",
       "    <tr>\n",
       "      <th>4</th>\n",
       "      <td>LOANS</td>\n",
       "      <td>10501</td>\n",
       "      <td>A</td>\n",
       "      <td>N</td>\n",
       "      <td>1</td>\n",
       "      <td>ORGN</td>\n",
       "      <td>HFI</td>\n",
       "      <td>Current</td>\n",
       "      <td>FIXED</td>\n",
       "      <td>1.</td>\n",
       "      <td>...</td>\n",
       "      <td>N</td>\n",
       "      <td>N</td>\n",
       "      <td>0.003987</td>\n",
       "      <td>R</td>\n",
       "      <td>D</td>\n",
       "      <td>N</td>\n",
       "      <td>N</td>\n",
       "      <td>N</td>\n",
       "      <td>N</td>\n",
       "      <td>0.498662</td>\n",
       "    </tr>\n",
       "  </tbody>\n",
       "</table>\n",
       "<p>5 rows × 67 columns</p>\n",
       "</div>"
      ],
      "text/plain": [
       "  CONTRACT_TYPE_CODE FRS_BU ACCOUNT_TYPE ACQ_IN_CAL_YR ACTG_UNIT_ID  \\\n",
       "0              LOANS  10501            A             N            1   \n",
       "1              LOANS  10501            A             N            1   \n",
       "2              LOANS  10501            A             N            1   \n",
       "3              LOANS  10501            A             N            1   \n",
       "4              LOANS  10501            A             N            1   \n",
       "\n",
       "  ARRG_ACQ_TYP_CD ARRG_BUS_INTENT_TYP_CD ARRG_FIN_STA_TYP_CD ARRG_MAT_TYP_CD  \\\n",
       "0            ORGN                    HFI             Current           FIXED   \n",
       "1            ORGN                    HFI             PDDLQNT           FIXED   \n",
       "2            ORGN                    HFI             Current           FIXED   \n",
       "3            ORGN                    HFI             Current           FIXED   \n",
       "4            ORGN                    HFI             Current           FIXED   \n",
       "\n",
       "  ARRG_PURP_TYP_CD        ...        PLDG_IND REG_O_EMP_FLAG REMN_DAYS_TO_MAT  \\\n",
       "0               1.        ...               N              N         0.003987   \n",
       "1               1.        ...               N              N         0.003987   \n",
       "2               1.        ...               N              N         0.003987   \n",
       "3               1.        ...               N              N         0.003987   \n",
       "4               1.        ...               N              N         0.003987   \n",
       "\n",
       "  RFIN_FLAG RISK_MGT_TYP_CD SEC_BY_RE_FLAG SOP_3_FLAG TRBLD_DEBT_RSTRU_FLAG  \\\n",
       "0         R               D              N          N                     N   \n",
       "1         R               D              N          N                     N   \n",
       "2         R               D              N          N                     N   \n",
       "3         R               D              N          N                     N   \n",
       "4         R               D              N          N                     N   \n",
       "\n",
       "  WHS_ORIG_FLAG SUM(BASE_CCY_AMT)  \n",
       "0             N          0.498663  \n",
       "1             N          0.498665  \n",
       "2             N          0.498662  \n",
       "3             N          0.498663  \n",
       "4             N          0.498662  \n",
       "\n",
       "[5 rows x 67 columns]"
      ]
     },
     "execution_count": 39,
     "metadata": {},
     "output_type": "execute_result"
    }
   ],
   "source": [
    "df1.head()"
   ]
  },
  {
   "cell_type": "code",
   "execution_count": null,
   "metadata": {},
   "outputs": [],
   "source": [
    "cat_columns_idx = [df_processed.columns.get_loc(col) \n",
    "                   for col in categorical_Attributes]"
   ]
  },
  {
   "cell_type": "code",
   "execution_count": null,
   "metadata": {},
   "outputs": [],
   "source": [
    "ohe = OneHotEncoder(categorical_features=cat_columns_idx, \n",
    "                    sparse=False, handle_unknown=\"ignore\")\n",
    "df_processed_np = ohe.fit_transform(df_processed)"
   ]
  },
  {
   "cell_type": "code",
   "execution_count": 34,
   "metadata": {},
   "outputs": [],
   "source": [
    "data_dummies_X = pd.get_dummies(columns=categorical_Attributes, data=df1, prefix=categorical_Attributes, prefix_sep=\"_\",drop_first=False)"
   ]
  },
  {
   "cell_type": "code",
   "execution_count": 41,
   "metadata": {},
   "outputs": [
    {
     "data": {
      "text/plain": [
       "(2283081, 384)"
      ]
     },
     "execution_count": 41,
     "metadata": {},
     "output_type": "execute_result"
    }
   ],
   "source": [
    "data_dummies_X.shape"
   ]
  },
  {
   "cell_type": "code",
   "execution_count": 35,
   "metadata": {},
   "outputs": [
    {
     "data": {
      "text/plain": [
       "array(['Current', 'PDDLQNT', 'CHGOFF', '3', 'PAIDOFF', 'PDODLNQ',\n",
       "       'CLOSED', '~U', 'POWCHGO', 'COLLN', '1', 'FCLOSCMP', 'FCLOS', '4',\n",
       "       '9', 'PDNFIP', '8', '11'], dtype=object)"
      ]
     },
     "execution_count": 35,
     "metadata": {},
     "output_type": "execute_result"
    }
   ],
   "source": [
    "df1['ARRG_FIN_STA_TYP_CD'].unique()"
   ]
  },
  {
   "cell_type": "code",
   "execution_count": null,
   "metadata": {},
   "outputs": [],
   "source": [
    "#dummies_col = pd.DataFrame(data_dummies_X.columns)"
   ]
  },
  {
   "cell_type": "code",
   "execution_count": null,
   "metadata": {},
   "outputs": [],
   "source": [
    "#data_dummies_X.columns"
   ]
  },
  {
   "cell_type": "code",
   "execution_count": 46,
   "metadata": {
    "scrolled": true
   },
   "outputs": [],
   "source": [
    "#dummies_col[0].value_counts()"
   ]
  },
  {
   "cell_type": "code",
   "execution_count": 45,
   "metadata": {},
   "outputs": [],
   "source": [
    "#data_dummies_X['ARRG_FIN_STA_TYP_CD_3']"
   ]
  },
  {
   "cell_type": "code",
   "execution_count": 37,
   "metadata": {},
   "outputs": [
    {
     "data": {
      "text/plain": [
       "881701"
      ]
     },
     "execution_count": 37,
     "metadata": {},
     "output_type": "execute_result"
    }
   ],
   "source": [
    "#data_dummies_X['ARRG_FIN_STA_TYP_CD_3'].sum()"
   ]
  },
  {
   "cell_type": "code",
   "execution_count": null,
   "metadata": {},
   "outputs": [],
   "source": [
    "dummy_col = ['BASE_CCY_AMT','BASE_CCY_QTD_AMT','DAYS_ARRG_BUS_INTENT','DAYS_ARRG_FIN_STA','DAYS_IN_TDR_STA','DAYS_INT_ACCR_STA','MATURITY_DAYS','REMN_DAYS_TO_MAT','SUM(BASE_CCY_AMT)','CONTRACT_TYPE_CODE_LOANS','FRS_BU_10064','FRS_BU_10172','FRS_BU_10378','FRS_BU_10379','FRS_BU_10472','FRS_BU_10496','FRS_BU_10501','FRS_BU_10508','FRS_BU_10598','FRS_BU_11225','FRS_BU_11227','FRS_BU_11230','FRS_BU_11231','FRS_BU_11233','FRS_BU_11273','FRS_BU_11425','FRS_BU_11426','FRS_BU_11428','FRS_BU_11517','FRS_BU_12052','FRS_BU_12595','FRS_BU_12725','FRS_BU_12748','FRS_BU_12749','FRS_BU_12846','FRS_BU_13048','FRS_BU_13457','FRS_BU_14058','FRS_BU_14106','FRS_BU_14177','FRS_BU_16321','FRS_BU_17118','FRS_BU_18825','ACCOUNT_TYPE_A','ACCOUNT_TYPE_L','ACQ_IN_CAL_YR_N','ACTG_UNIT_ID_1','ACTG_UNIT_ID_9','ACTG_UNIT_ID_12','ARRG_ACQ_TYP_CD_1','ARRG_ACQ_TYP_CD_NTB','ARRG_ACQ_TYP_CD_ORGN','ARRG_ACQ_TYP_CD_PURC','ARRG_ACQ_TYP_CD_~U','ARRG_BUS_INTENT_TYP_CD_HFI','ARRG_FIN_STA_TYP_CD_3','ARRG_FIN_STA_TYP_CD_4','ARRG_FIN_STA_TYP_CD_1','ARRG_FIN_STA_TYP_CD_11','ARRG_FIN_STA_TYP_CD_3','ARRG_FIN_STA_TYP_CD_4','ARRG_FIN_STA_TYP_CD_8','ARRG_FIN_STA_TYP_CD_9','ARRG_FIN_STA_TYP_CD_CHGOFF','ARRG_FIN_STA_TYP_CD_CLOSED','ARRG_FIN_STA_TYP_CD_COLLN','ARRG_FIN_STA_TYP_CD_Current','ARRG_FIN_STA_TYP_CD_FCLOS','ARRG_FIN_STA_TYP_CD_FCLOSCMP','ARRG_FIN_STA_TYP_CD_PAIDOFF','ARRG_FIN_STA_TYP_CD_PDDLQNT','ARRG_FIN_STA_TYP_CD_PDNFIP','ARRG_FIN_STA_TYP_CD_PDODLNQ','ARRG_FIN_STA_TYP_CD_POWCHGO','ARRG_FIN_STA_TYP_CD_~U','ARRG_MAT_TYP_CD_1','ARRG_MAT_TYP_CD_CALL','ARRG_MAT_TYP_CD_EVRGRN','ARRG_MAT_TYP_CD_FIXED','ARRG_PURP_TYP_CD_1.0','ARRG_PURP_TYP_CD_99.0','ARRG_PURP_TYP_CD_100.0','ARRG_PURP_TYP_CD_0','ARRG_PURP_TYP_CD_0.','ARRG_PURP_TYP_CD_1-4_FMMRTG','ARRG_PURP_TYP_CD_1.','ARRG_PURP_TYP_CD_100','ARRG_PURP_TYP_CD_11','ARRG_PURP_TYP_CD_124','ARRG_PURP_TYP_CD_127','ARRG_PURP_TYP_CD_22','ARRG_PURP_TYP_CD_55','ARRG_PURP_TYP_CD_99','ARRG_PURP_TYP_CD_ACQU_FIN','ARRG_PURP_TYP_CD_CITI_TREAS','ARRG_PURP_TYP_CD_CLG_TUTN','ARRG_PURP_TYP_CD_CONS_LN','ARRG_PURP_TYP_CD_DEBT_FIN','ARRG_PURP_TYP_CD_FMLY_CELEB','ARRG_PURP_TYP_CD_GEN_PURP','ARRG_PURP_TYP_CD_HFS','ARRG_PURP_TYP_CD_HOME_RPR',\n",
    "             'ARRG_PURP_TYP_CD_INFR_ENGY','ARRG_PURP_TYP_CD_NEW_PRD_DV','ARRG_PURP_TYP_CD_OTH','ARRG_PURP_TYP_CD_OTHER','ARRG_PURP_TYP_CD_PERS_INVT','ARRG_PURP_TYP_CD_PORT_ACUQ','ARRG_PURP_TYP_CD_PTY_PR_MOR','ARRG_PURP_TYP_CD_PURCARNEW1','ARRG_PURP_TYP_CD_RE_ACQ_COM','ARRG_PURP_TYP_CD_RE_ACQ_LND','ARRG_PURP_TYP_CD_UNKNOWN','ARRG_PURP_TYP_CD_~U','ARRG_TYP_CD_PLN_ARRG','ARXIPRT_FICO_EQV_RTNG_CD_ORIG_B08 Null','ARXIPRT_FICO_EQV_RTNG_CD_REF_B01 < 620','ARXIPRT_FICO_EQV_RTNG_CD_REF_B02 = 620','ARXIPRT_FICO_EQV_RTNG_CD_REF_B03 > 620 < 660','ARXIPRT_FICO_EQV_RTNG_CD_REF_B04 = 660','ARXIPRT_FICO_EQV_RTNG_CD_REF_B05 > 660 < 680','ARXIPRT_FICO_EQV_RTNG_CD_REF_B06 = 680','ARXIPRT_FICO_EQV_RTNG_CD_REF_B07 > 680 < 720','ARXIPRT_FICO_EQV_RTNG_CD_REF_B08 Null','ARXIPRT_FICO_EQV_RTNG_CD_REF_B09 <= 0','ARXIPRT_FICO_EQV_RTNG_CD_REF_B10 = 720','ARXIPRT_FICO_EQV_RTNG_CD_REF_B11 > 720 < 760','ARXIPRT_FICO_EQV_RTNG_CD_REF_B12 = 760','ARXIPRT_FICO_EQV_RTNG_CD_REF_B13 > 760',\n",
    "             'BAND_ARRG_FIN_STA_DT_B01','BAND_ARRG_FIN_STA_DT_B99','BAND_EST_END_DT_B01','BAND_EST_END_DT_B02','BAND_EST_END_DT_B03','BAND_EST_END_DT_B04','BAND_EST_END_DT_B05','BAND_EST_END_DT_B06','BAND_EST_END_DT_B07','BAND_EST_END_DT_B99','BAND_LN_ARRG_PDUE_DAY_CNT_B01(0,29]','BAND_LN_ARRG_PDUE_DAY_CNT_B02[30,89]','BAND_LN_ARRG_PDUE_DAY_CNT_B03(90)','BAND_LN_MDFY_DT_B01','BAND_LN_MDFY_DT_B02','BAND_LN_MDFY_DT_B03','BAND_LN_MDFY_DT_B05','BAND_LN_MDFY_DT_B07','BAND_LN_MDFY_DT_B99','BAND_LN_ORIG_AMT_B01 <= 100000','BAND_LN_ORIG_AMT_B02 (100000,250000]','BAND_LN_ORIG_AMT_B03 (250000,500000]','BAND_LN_ORIG_AMT_B04 (500000,1000000]','BAND_LN_ORIG_AMT_B05 >1000000','BAND_REMN_MAT_MTHS_B01 (0,3]','BAND_REMN_MAT_MTHS_B02 (3,12)','BAND_REMN_MAT_MTHS_B03 [12]','BAND_REMN_MAT_MTHS_B04 (12,36]','BAND_REMN_MAT_MTHS_B05 (36,60]','BAND_REMN_MAT_MTHS_B06 (60,120]','BAND_REMN_MAT_MTHS_B07 (120,180]','BAND_REMN_MAT_MTHS_B08 (180)','BAND_RMN_MTHS_NXT_INT_RSET_B01 (0,3]','BAND_RMN_MTHS_NXT_INT_RSET_B02 (3,12)','BAND_RMN_MTHS_NXT_INT_RSET_B03 [12]','BAND_RMN_MTHS_NXT_INT_RSET_B04 (12,36]','BAND_RMN_MTHS_NXT_INT_RSET_B05 (36,60]','BAND_RMN_MTHS_NXT_INT_RSET_B06 (60,120]','BAND_RMN_MTHS_NXT_INT_RSET_B08 (180)','CITI_RCRS_IND_N','CU_GF_DMCL_CTRY_CD_AD','CU_GF_DMCL_CTRY_CD_AE','CU_GF_DMCL_CTRY_CD_AR','CU_GF_DMCL_CTRY_CD_AU','CU_GF_DMCL_CTRY_CD_BD','CU_GF_DMCL_CTRY_CD_BH','CU_GF_DMCL_CTRY_CD_BN','CU_GF_DMCL_CTRY_CD_BR','CU_GF_DMCL_CTRY_CD_BS','CU_GF_DMCL_CTRY_CD_CA','CU_GF_DMCL_CTRY_CD_CL','CU_GF_DMCL_CTRY_CD_CN','CU_GF_DMCL_CTRY_CD_CO','CU_GF_DMCL_CTRY_CD_CZ','CU_GF_DMCL_CTRY_CD_DE','CU_GF_DMCL_CTRY_CD_ES','CU_GF_DMCL_CTRY_CD_GB','CU_GF_DMCL_CTRY_CD_GH','CU_GF_DMCL_CTRY_CD_GI','CU_GF_DMCL_CTRY_CD_GM','CU_GF_DMCL_CTRY_CD_HK','CU_GF_DMCL_CTRY_CD_HKCPB','CU_GF_DMCL_CTRY_CD_ID','CU_GF_DMCL_CTRY_CD_IE','CU_GF_DMCL_CTRY_CD_IL','CU_GF_DMCL_CTRY_CD_IN','CU_GF_DMCL_CTRY_CD_JP','CU_GF_DMCL_CTRY_CD_KE','CU_GF_DMCL_CTRY_CD_KR','CU_GF_DMCL_CTRY_CD_KW','CU_GF_DMCL_CTRY_CD_MO','CU_GF_DMCL_CTRY_CD_MT','CU_GF_DMCL_CTRY_CD_MU','CU_GF_DMCL_CTRY_CD_MV',\n",
    "             'CU_GF_DMCL_CTRY_CD_MX','CU_GF_DMCL_CTRY_CD_MY','CU_GF_DMCL_CTRY_CD_NG','CU_GF_DMCL_CTRY_CD_NZ','CU_GF_DMCL_CTRY_CD_OM','CU_GF_DMCL_CTRY_CD_PE','CU_GF_DMCL_CTRY_CD_PH','CU_GF_DMCL_CTRY_CD_PL','CU_GF_DMCL_CTRY_CD_QA','CU_GF_DMCL_CTRY_CD_RU','CU_GF_DMCL_CTRY_CD_SA','CU_GF_DMCL_CTRY_CD_SE','CU_GF_DMCL_CTRY_CD_SG','CU_GF_DMCL_CTRY_CD_SGCPB','CU_GF_DMCL_CTRY_CD_SP','CU_GF_DMCL_CTRY_CD_TH','CU_GF_DMCL_CTRY_CD_TR','CU_GF_DMCL_CTRY_CD_TW','CU_GF_DMCL_CTRY_CD_UA','CU_GF_DMCL_CTRY_CD_US','CU_GF_DMCL_CTRY_CD_VN','CU_GF_DMCL_CTRY_CD_ZA','CU_GF_DMCL_CTRY_CD_ZM','CU_GF_SUB_TYP_CD_CCID',\n",
    "             'CU_GF_SUB_TYP_CD_INDO','CU_GF_SUB_TYP_CD_PRE_CCID','ENTRPS_PROD_CD_14.0','ENTRPS_PROD_CD_16.0','ENTRPS_PROD_CD_44.0','ENTRPS_PROD_CD_60.0','ENTRPS_PROD_CD_61.0','ENTRPS_PROD_CD_62.0','ENTRPS_PROD_CD_68.0','ENTRPS_PROD_CD_206.0','ENTRPS_PROD_CD_606.0','ENTRPS_PROD_CD_620.0','ENTRPS_PROD_CD_7.020000000000023e+17','FAIR_VAL_LVL_LVL_1','FAIR_VAL_LVL_N','FAIR_VAL_LVL_~U','FAS114_FLAG_N','FAS114_FLAG_Y','FAS114_SP_ALL_FLAG_N','FAS5_FLAG_N','FAS5_FLAG_Y','FDL_PMF_ACCT_BS07000000','FDL_PMF_ACCT_BS07010000','FDL_PMF_ACCT_BS07020000','FDL_PMF_ACCT_BS07100000','FDL_PMF_ACCT_BS07230000','FDL_PMF_ACCT_BS07270000','FDL_PMF_ACCT_BS07310000','FDL_PMF_ACCT_BS07370000','FDL_PMF_ACCT_BS07390000','FDL_PMF_ACCT_BS07580000','FDL_PMF_ACCT_BS44030000','FICO_EQV_RTNG_CD_B01 < 620','FICO_EQV_RTNG_CD_B02 = 620','FICO_EQV_RTNG_CD_B03 > 620 < 660','FICO_EQV_RTNG_CD_B04 = 660','FICO_EQV_RTNG_CD_B05 > 660 < 680','FICO_EQV_RTNG_CD_B06 = 680','FICO_EQV_RTNG_CD_B07 > 680 < 720','FICO_EQV_RTNG_CD_B08 Null','FICO_EQV_RTNG_CD_B09 <= 0','FICO_EQV_RTNG_CD_B10 = 720','FICO_EQV_RTNG_CD_B11 > 720 < 760','FICO_EQV_RTNG_CD_B12 = 760','FICO_EQV_RTNG_CD_B13 > 760','FIN_SERV_TYP_CD_1','FIN_SERV_TYP_CD_CF','FIN_SERV_TYP_CD_CORP_LN','FIN_SERV_TYP_CD_DEFAULT','FIN_SERV_TYP_CD_LEASE','FIN_SERV_TYP_CD_LOAN','FIN_SERV_TYP_CD_RECVBL_FIN','FIN_SERV_TYP_CD_UNSEC_LOC','FIN_SERV_TYP_CD_~U','FRS_ACCOUNT_CLASS_LOANS','FRS_AFFL_CD_0','FRS_AFFL_ICE_I00000','FRS_BU_LGL_CD_5','FRS_BU_LGL_CD_10','FRS_BU_LGL_CD_20','FRS_BU_LGL_CD_40','FRS_BU_LGL_CD_156','LIEN_POSN_TYP_CD_1.0','LIEN_POSN_TYP_CD_4.0','LIEN_POSN_TYP_CD_1','LIEN_POSN_TYP_CD_4','LIEN_POSN_TYP_CD_SNR_SEC','LIEN_POSN_TYP_CD_SUB_ORD_UN','LIEN_POSN_TYP_CD_UNKNOWN','LN_ARRG_SCR_TYP_CD_1.0','LN_ARRG_SCR_TYP_CD_2','LN_ARRG_SCR_TYP_CD_3.0','LN_ARRG_SCR_TYP_CD_1','LN_ARRG_SCR_TYP_CD_2','LN_ARRG_SCR_TYP_CD_3','LN_ARRG_SCR_TYP_CD_~U','LN_FAIR_VAL_OPT_IND_N','LN_FIN_SV_LIMIT_TYP_CD_N','LN_FIN_SV_LIMIT_TYP_CD_NON_RV_LMT','LN_INT_ACCR_STAT_TYP_CD_1','LN_INT_ACCR_STAT_TYP_CD_ACCR_INT','LN_INT_ACCR_STAT_TYP_CD_NON_AC_INT','LN_LIEN_POS_TP_ID_1.0','LN_LIEN_POS_TP_ID_4.0','LN_LIEN_POS_TP_ID_1','LN_LIEN_POS_TP_ID_4',\n",
    "             'LN_LIEN_POS_TP_ID_SNR_SEC','LN_LIEN_POS_TP_ID_SUB_ORD_UN','LN_LIEN_POS_TP_ID_UNKNOWN','LN_NEG_AMORT_FLAG_N','LN_RATE_RSET_PERD_INT_ID_10001','LN_RATE_RSET_PERD_INT_ID_10002','LN_RATE_RSET_PERD_INT_ID_10003','LN_RATE_RSET_PERD_INT_ID_10004','LN_RATE_RSET_PERD_INT_ID_10005','LN_RATE_RSET_PERD_INT_ID_10006','LN_RATE_RSET_PERD_INT_ID_10007','LN_RATE_RSET_PERD_INT_ID_10008','LN_RATE_RSET_PERD_INT_ID_10011','LN_RATE_RSET_PERD_INT_ID_10012','LN_RATE_RSET_PERD_INT_ID_10013','LN_RATE_RSET_PERD_INT_ID_10015','LN_RATE_RSET_PERD_INT_ID_10022','LN_RATE_RSET_PERD_INT_ID_10025','LN_RATE_VARIABLT_TYP_CD_ADM_RATE','LN_RATE_VARIABLT_TYP_CD_FIX_RATE','LN_RATE_VARIABLT_TYP_CD_VAR_RATE','LN_TAX_EXMP_IND_N','LN_TAX_EXMP_IND_Y','LV_DMC_CTRY_AE','LV_DMC_CTRY_AU','LV_DMC_CTRY_BH','LV_DMC_CTRY_CN','LV_DMC_CTRY_GB','LV_DMC_CTRY_HK','LV_DMC_CTRY_ID','LV_DMC_CTRY_IN','LV_DMC_CTRY_JE','LV_DMC_CTRY_KR','LV_DMC_CTRY_MX','LV_DMC_CTRY_MY','LV_DMC_CTRY_PH','LV_DMC_CTRY_PL','LV_DMC_CTRY_RU','LV_DMC_CTRY_SG','LV_DMC_CTRY_TH','LV_DMC_CTRY_TW','LV_DMC_CTRY_US','LV_DMC_CTRY_VN','MDFY_TYP_CD_N','MDFY_TYP_CD_OTH','MDFY_TYP_CD_OTH_MOD','MDFY_TYP_CD_PRIN_FRGV','MGT_BU_PL_CONSUMER','MGT_BU_PL_CORPORATE','NON_PROFIT_FLAG_N','ORIG_INVR_INS_CAT_CD_7','ORIG_INVR_INS_CAT_CD_CPRTCTSHLD','ORIG_INVR_INS_CAT_CD_OTHER','ORIG_INVR_INS_CAT_CD_UNKNOWN','PLDG_IND_N','REG_O_EMP_FLAG_N','REG_O_EMP_FLAG_U','REG_O_EMP_FLAG_Y','RFIN_FLAG_M','RFIN_FLAG_N','RFIN_FLAG_R','RFIN_FLAG_Y','RISK_MGT_TYP_CD_1','RISK_MGT_TYP_CD_C','RISK_MGT_TYP_CD_CM','RISK_MGT_TYP_CD_D','RISK_MGT_TYP_CD_DM','SEC_BY_RE_FLAG_N','SOP_3_FLAG_N','SOP_3_FLAG_U','TRBLD_DEBT_RSTRU_FLAG_N','TRBLD_DEBT_RSTRU_FLAG_Y','WHS_ORIG_FLAG_N']"
   ]
  },
  {
   "cell_type": "markdown",
   "metadata": {},
   "source": [
    "# K-means clustering"
   ]
  },
  {
   "cell_type": "code",
   "execution_count": null,
   "metadata": {},
   "outputs": [],
   "source": [
    "from sklearn.cluster import MiniBatchKMeans\n",
    "kmeans = MiniBatchKMeans(n_clusters=25,random_state=0,batch_size=150000)\n",
    "kmeans = kmeans.partial_fit(data_dummies_X.iloc[0:150000,:])\n",
    "kmeans = kmeans.partial_fit(data_dummies_X.iloc[150000:300000,:])\n",
    "kmeans = kmeans.partial_fit(data_dummies_X.iloc[300000:450000,:])\n",
    "kmeans = kmeans.partial_fit(data_dummies_X.iloc[450000:600000,:])\n",
    "kmeans = kmeans.partial_fit(data_dummies_X.iloc[600000:750000,:])\n",
    "kmeans = kmeans.partial_fit(data_dummies_X.iloc[750000:900000,:])\n",
    "kmeans = kmeans.partial_fit(data_dummies_X.iloc[900000:1050000,:])\n",
    "kmeans = kmeans.partial_fit(data_dummies_X.iloc[1050000:1200000,:])\n",
    "kmeans = kmeans.partial_fit(data_dummies_X.iloc[1200000:1350000,:])\n",
    "kmeans = kmeans.partial_fit(data_dummies_X.iloc[1350000:1500000,:])\n",
    "kmeans = kmeans.partial_fit(data_dummies_X.iloc[1500000:1650000,:])\n",
    "kmeans = kmeans.partial_fit(data_dummies_X.iloc[1650000:1800000,:])\n",
    "kmeans = kmeans.partial_fit(data_dummies_X.iloc[1800000:1950000,:])\n",
    "kmeans = kmeans.partial_fit(data_dummies_X.iloc[1950000:2100000,:])\n",
    "kmeans = kmeans.partial_fit(data_dummies_X.iloc[2100000:2283080,:])"
   ]
  },
  {
   "cell_type": "markdown",
   "metadata": {},
   "source": [
    "# Model persistence"
   ]
  },
  {
   "cell_type": "code",
   "execution_count": null,
   "metadata": {},
   "outputs": [],
   "source": [
    "from sklearn.externals import joblib\n",
    "filename = 'finalized_model.sav'"
   ]
  },
  {
   "cell_type": "code",
   "execution_count": null,
   "metadata": {},
   "outputs": [],
   "source": [
    "joblib.dump(kmeans, filename)"
   ]
  },
  {
   "cell_type": "code",
   "execution_count": null,
   "metadata": {},
   "outputs": [],
   "source": [
    "# some time later...\n",
    "# load the model from disk\n",
    "loaded_model = joblib.load(filename)"
   ]
  },
  {
   "cell_type": "code",
   "execution_count": null,
   "metadata": {},
   "outputs": [],
   "source": [
    "y_kmeans = kmeans.predict(data_dummies_X)"
   ]
  },
  {
   "cell_type": "code",
   "execution_count": null,
   "metadata": {},
   "outputs": [],
   "source": [
    "y_kmeans= pd.DataFrame(y_kmeans)"
   ]
  },
  {
   "cell_type": "code",
   "execution_count": null,
   "metadata": {},
   "outputs": [],
   "source": [
    "y_kmeans.shape"
   ]
  },
  {
   "cell_type": "code",
   "execution_count": null,
   "metadata": {
    "scrolled": true
   },
   "outputs": [],
   "source": [
    "pd.value_counts(y_kmeans[0])"
   ]
  },
  {
   "cell_type": "code",
   "execution_count": null,
   "metadata": {},
   "outputs": [],
   "source": [
    "kmeans.cluster_centers_.shape"
   ]
  },
  {
   "cell_type": "code",
   "execution_count": null,
   "metadata": {},
   "outputs": [],
   "source": [
    "# # alldistances = kmeans.transform(data_dummies_X)\n",
    "# alldistances_50 = kmeans.transform(data_dummies_X)"
   ]
  },
  {
   "cell_type": "code",
   "execution_count": null,
   "metadata": {},
   "outputs": [],
   "source": [
    "y_kmeans_dist = pd.DataFrame(kmeans.transform(data_dummies_X))"
   ]
  },
  {
   "cell_type": "code",
   "execution_count": null,
   "metadata": {},
   "outputs": [],
   "source": [
    "y_kmeans_dist.head()"
   ]
  },
  {
   "cell_type": "code",
   "execution_count": null,
   "metadata": {
    "scrolled": true
   },
   "outputs": [],
   "source": [
    "# df_distance_0 = df_distance[0].sort_values(ascending=False)\n",
    "# df_distance_1 = df_distance[1].sort_values(ascending=False)"
   ]
  },
  {
   "cell_type": "markdown",
   "metadata": {},
   "source": [
    "# max_min distance of each cluster"
   ]
  },
  {
   "cell_type": "code",
   "execution_count": null,
   "metadata": {},
   "outputs": [],
   "source": [
    "numRows = pd.value_counts(y_kmeans[0]).max()\n",
    "numCols = 25\n",
    "cluster_dist1 = pd.DataFrame(index=range(numRows),columns=range(numCols))"
   ]
  },
  {
   "cell_type": "code",
   "execution_count": null,
   "metadata": {},
   "outputs": [],
   "source": [
    "min1 = []\n",
    "max1 = []\n",
    "cluster = []\n",
    "# cluster_dist = pd.DataFrame()\n",
    "for j in range(25):\n",
    "    for i in range(2283081):\n",
    "        label = y_kmeans.iloc[i,0]\n",
    "        if label == j:\n",
    "            cluster.append(y_kmeans_dist.iloc[i,label])\n",
    "#     se_cluster = pd.Series(cluster)\n",
    "    cluster_dist1[j] = pd.Series(cluster)\n",
    "    cluster = []"
   ]
  },
  {
   "cell_type": "code",
   "execution_count": null,
   "metadata": {},
   "outputs": [],
   "source": [
    "cluster_dist1.to_csv('min_max_25.csv')"
   ]
  },
  {
   "cell_type": "code",
   "execution_count": null,
   "metadata": {},
   "outputs": [],
   "source": [
    "cluster_dist1.head()"
   ]
  },
  {
   "cell_type": "code",
   "execution_count": null,
   "metadata": {},
   "outputs": [],
   "source": [
    "cluster_dist1.describe()"
   ]
  },
  {
   "cell_type": "markdown",
   "metadata": {},
   "source": [
    "# testing"
   ]
  },
  {
   "cell_type": "code",
   "execution_count": null,
   "metadata": {},
   "outputs": [],
   "source": [
    "os.getcwd()"
   ]
  },
  {
   "cell_type": "code",
   "execution_count": null,
   "metadata": {},
   "outputs": [],
   "source": [
    "df_test = pd.read_csv('test.csv')"
   ]
  },
  {
   "cell_type": "code",
   "execution_count": null,
   "metadata": {},
   "outputs": [],
   "source": [
    "df_test.drop(['Unnamed: 0'],axis = 1,inplace = True)"
   ]
  },
  {
   "cell_type": "code",
   "execution_count": null,
   "metadata": {},
   "outputs": [],
   "source": [
    "df_test.head()"
   ]
  },
  {
   "cell_type": "code",
   "execution_count": null,
   "metadata": {},
   "outputs": [],
   "source": [
    "df_test.shape"
   ]
  },
  {
   "cell_type": "code",
   "execution_count": null,
   "metadata": {},
   "outputs": [],
   "source": [
    "df_test.dtypes"
   ]
  },
  {
   "cell_type": "code",
   "execution_count": null,
   "metadata": {},
   "outputs": [],
   "source": [
    "df_test.isnull().sum()"
   ]
  },
  {
   "cell_type": "code",
   "execution_count": null,
   "metadata": {},
   "outputs": [],
   "source": [
    "df_test['CU_GF_DMCL_CTRY_CD']=df_test['CU_GF_DMCL_CTRY_CD'].fillna(df_test['CU_GF_DMCL_CTRY_CD'].mode().iloc[0])"
   ]
  },
  {
   "cell_type": "code",
   "execution_count": null,
   "metadata": {},
   "outputs": [],
   "source": [
    "categorical_test = df_test.select_dtypes(include=['object']).columns\n",
    "categorical_test = list(categorical_test)"
   ]
  },
  {
   "cell_type": "code",
   "execution_count": null,
   "metadata": {},
   "outputs": [],
   "source": [
    "test_data_dummies_X = pd.get_dummies(columns=categorical_test, data=df_test, prefix=categorical_test, prefix_sep=\"_\",drop_first=False)"
   ]
  },
  {
   "cell_type": "code",
   "execution_count": null,
   "metadata": {},
   "outputs": [],
   "source": [
    "test_data_dummies_X.head()"
   ]
  },
  {
   "cell_type": "code",
   "execution_count": null,
   "metadata": {},
   "outputs": [],
   "source": [
    "test_dummy = pd.DataFrame()\n",
    "for col in list(dummies_col[0]):\n",
    "    if col in list(test_data_dummies_X.columns):\n",
    "        test_dummy = pd.concat([test_dummy,test_data_dummies_X[col]],axis=1)\n",
    "    else:\n",
    "        test_dummy[col] = 0"
   ]
  },
  {
   "cell_type": "code",
   "execution_count": null,
   "metadata": {},
   "outputs": [],
   "source": [
    "dummies_col[0]"
   ]
  },
  {
   "cell_type": "code",
   "execution_count": null,
   "metadata": {},
   "outputs": [],
   "source": []
  },
  {
   "cell_type": "code",
   "execution_count": null,
   "metadata": {},
   "outputs": [],
   "source": []
  },
  {
   "cell_type": "code",
   "execution_count": null,
   "metadata": {},
   "outputs": [],
   "source": [
    "test_dummy.head()"
   ]
  },
  {
   "cell_type": "code",
   "execution_count": null,
   "metadata": {},
   "outputs": [],
   "source": [
    "test_dummy_1.fillna(0,inplace = True)"
   ]
  },
  {
   "cell_type": "code",
   "execution_count": null,
   "metadata": {},
   "outputs": [],
   "source": [
    "test_dummy_1.head()"
   ]
  },
  {
   "cell_type": "code",
   "execution_count": null,
   "metadata": {},
   "outputs": [],
   "source": []
  },
  {
   "cell_type": "code",
   "execution_count": null,
   "metadata": {},
   "outputs": [],
   "source": [
    "y_kmeans_test = loaded_model.predict(test_dummy_1)"
   ]
  },
  {
   "cell_type": "code",
   "execution_count": null,
   "metadata": {},
   "outputs": [],
   "source": []
  },
  {
   "cell_type": "code",
   "execution_count": null,
   "metadata": {},
   "outputs": [],
   "source": []
  },
  {
   "cell_type": "code",
   "execution_count": null,
   "metadata": {},
   "outputs": [],
   "source": []
  },
  {
   "cell_type": "code",
   "execution_count": null,
   "metadata": {},
   "outputs": [],
   "source": []
  },
  {
   "cell_type": "code",
   "execution_count": null,
   "metadata": {},
   "outputs": [],
   "source": []
  },
  {
   "cell_type": "code",
   "execution_count": null,
   "metadata": {},
   "outputs": [],
   "source": []
  },
  {
   "cell_type": "code",
   "execution_count": null,
   "metadata": {},
   "outputs": [],
   "source": [
    "# numRows = pd.value_counts(y_kmeans[0]).max()\n",
    "# numCols = 50\n",
    "# cluster_dist2 = pd.DataFrame(index=range(numRows),columns=range(numCols))"
   ]
  },
  {
   "cell_type": "code",
   "execution_count": null,
   "metadata": {},
   "outputs": [],
   "source": [
    "# min1 = []\n",
    "# max1 = []\n",
    "# cluster = []\n",
    "# # cluster_dist = pd.DataFrame()\n",
    "# for j in range(50):\n",
    "#     for i in range(2283081):\n",
    "#         label = y_kmeans.iloc[i,0]\n",
    "#         if label == j:\n",
    "#             cluster.append(y_kmeans_dist.iloc[i,label])\n",
    "# #     se_cluster = pd.Series(cluster)\n",
    "#     cluster_dist2[j] = pd.Series(cluster)\n",
    "#     cluster = []"
   ]
  },
  {
   "cell_type": "code",
   "execution_count": null,
   "metadata": {},
   "outputs": [],
   "source": [
    "# cluster_dist2.head()"
   ]
  },
  {
   "cell_type": "code",
   "execution_count": null,
   "metadata": {},
   "outputs": [],
   "source": [
    "# cluster_dist2.describe()"
   ]
  },
  {
   "cell_type": "code",
   "execution_count": null,
   "metadata": {},
   "outputs": [],
   "source": [
    "# min1 = []\n",
    "# max1 = []\n",
    "# cluster_0 = []\n",
    "# for j in range(50):\n",
    "#     for i in range(2283081):\n",
    "#         label = y_kmeans.iloc[i,0]\n",
    "#         if label == j:\n",
    "#             cluster_0.append(y_kmeans_dist.iloc[i,label])\n",
    "#     min1.append(min(cluster_0))\n",
    "#     max1.append(max(cluster_0))\n",
    "#     cluster_0 = []"
   ]
  },
  {
   "cell_type": "code",
   "execution_count": null,
   "metadata": {},
   "outputs": [],
   "source": [
    "# se_min = pd.Series(min1)\n",
    "# se_max = pd.Series(max1)"
   ]
  },
  {
   "cell_type": "code",
   "execution_count": null,
   "metadata": {},
   "outputs": [],
   "source": [
    "# cluster_min_max = pd.DataFrame()\n",
    "# cluster_min_max['min'] = se_min.values\n",
    "# cluster_min_max['max'] = se_max.values"
   ]
  },
  {
   "cell_type": "code",
   "execution_count": null,
   "metadata": {},
   "outputs": [],
   "source": [
    "# cluster_min_max"
   ]
  },
  {
   "cell_type": "markdown",
   "metadata": {},
   "source": [
    "# Elbow method"
   ]
  },
  {
   "cell_type": "code",
   "execution_count": null,
   "metadata": {},
   "outputs": [],
   "source": [
    "# def Kmeans(k):\n",
    "#     kmeans = MiniBatchKMeans(n_clusters=k,random_state=0,batch_size=150000)\n",
    "#     kmeans = kmeans.partial_fit(data_dummies_X.iloc[0:150000,:])\n",
    "#     kmeans = kmeans.partial_fit(data_dummies_X.iloc[150000:300000,:])\n",
    "#     kmeans = kmeans.partial_fit(data_dummies_X.iloc[300000:450000,:])\n",
    "#     kmeans = kmeans.partial_fit(data_dummies_X.iloc[450000:600000,:])\n",
    "#     kmeans = kmeans.partial_fit(data_dummies_X.iloc[600000:750000,:])\n",
    "#     kmeans = kmeans.partial_fit(data_dummies_X.iloc[750000:900000,:])\n",
    "#     kmeans = kmeans.partial_fit(data_dummies_X.iloc[900000:1050000,:])\n",
    "#     kmeans = kmeans.partial_fit(data_dummies_X.iloc[1050000:1200000,:])\n",
    "#     kmeans = kmeans.partial_fit(data_dummies_X.iloc[1200000:1350000,:])\n",
    "#     kmeans = kmeans.partial_fit(data_dummies_X.iloc[1350000:1500000,:])\n",
    "#     kmeans = kmeans.partial_fit(data_dummies_X.iloc[1500000:1650000,:])\n",
    "#     kmeans = kmeans.partial_fit(data_dummies_X.iloc[1650000:1800000,:])\n",
    "#     kmeans = kmeans.partial_fit(data_dummies_X.iloc[1800000:1950000,:])\n",
    "#     kmeans = kmeans.partial_fit(data_dummies_X.iloc[1950000:2100000,:])\n",
    "#     kmeans = kmeans.partial_fit(data_dummies_X.iloc[2100000:2283080,:])"
   ]
  },
  {
   "cell_type": "code",
   "execution_count": null,
   "metadata": {},
   "outputs": [],
   "source": [
    "# Sum_of_squared_distances = []\n",
    "# K = range(1,15)\n",
    "# for k in K:\n",
    "#     Kmeans(k)\n",
    "#     Sum_of_squared_distances.append(kmeans.inertia_)"
   ]
  },
  {
   "cell_type": "code",
   "execution_count": null,
   "metadata": {},
   "outputs": [],
   "source": [
    "# plt.plot(K, Sum_of_squared_distances, 'bx-')\n",
    "# plt.xlabel('k')\n",
    "# plt.ylabel('Sum_of_squared_distances')\n",
    "# plt.title('Elbow Method For Optimal k')\n",
    "# plt.show()"
   ]
  },
  {
   "cell_type": "code",
   "execution_count": null,
   "metadata": {},
   "outputs": [],
   "source": [
    "# Sum_of_squared_distances = []\n",
    "# #10,20,30,40,50,60,70,80,90,100\n",
    "# K = range(1,10)\n",
    "# for k in K:\n",
    "#     Kmeans(k)\n",
    "#     Sum_of_squared_distances.append(kmeans.inertia_)"
   ]
  },
  {
   "cell_type": "code",
   "execution_count": null,
   "metadata": {},
   "outputs": [],
   "source": [
    "# plt.plot(K, Sum_of_squared_distances, 'bx-')\n",
    "# plt.xlabel('k')\n",
    "# plt.ylabel('Sum_of_squared_distances')\n",
    "# plt.title('Elbow Method For Optimal k')\n",
    "# plt.show()"
   ]
  },
  {
   "cell_type": "code",
   "execution_count": null,
   "metadata": {},
   "outputs": [],
   "source": [
    "# Sum_of_squared_distances\n",
    "# kmeans.inertia_"
   ]
  },
  {
   "cell_type": "markdown",
   "metadata": {},
   "source": [
    "# silhouette_score"
   ]
  },
  {
   "cell_type": "code",
   "execution_count": null,
   "metadata": {},
   "outputs": [],
   "source": [
    "# from sklearn.metrics import silhouette_samples, silhouette_score"
   ]
  },
  {
   "cell_type": "code",
   "execution_count": null,
   "metadata": {},
   "outputs": [],
   "source": [
    "# silhouette_avg = silhouette_score(data_dummies_X, y_kmeans,sample_size = 10000,random_state=123)"
   ]
  },
  {
   "cell_type": "code",
   "execution_count": null,
   "metadata": {},
   "outputs": [],
   "source": [
    "# silhouette_avg"
   ]
  },
  {
   "cell_type": "code",
   "execution_count": null,
   "metadata": {
    "scrolled": true
   },
   "outputs": [],
   "source": [
    "# silhouette_sample = silhouette_samples(data_dummies_X, y_kmeans)"
   ]
  },
  {
   "cell_type": "markdown",
   "metadata": {},
   "source": [
    "# testing with june data"
   ]
  },
  {
   "cell_type": "code",
   "execution_count": null,
   "metadata": {},
   "outputs": [],
   "source": [
    "# df_test = pd.read_csv(path + 'PL_103_JUNE_2018.csv')"
   ]
  },
  {
   "cell_type": "code",
   "execution_count": null,
   "metadata": {},
   "outputs": [],
   "source": [
    "# df_test.head()"
   ]
  },
  {
   "cell_type": "code",
   "execution_count": null,
   "metadata": {},
   "outputs": [],
   "source": [
    "# pct_null_jun = df_test.isnull().sum()/len(df_test)\n",
    "# null_features_jun = pct_null_jun[pct_null_jun > .80].index"
   ]
  },
  {
   "cell_type": "code",
   "execution_count": null,
   "metadata": {},
   "outputs": [],
   "source": [
    "# df_test.drop(null_features_jun,axis = 1,inplace = True)"
   ]
  },
  {
   "cell_type": "code",
   "execution_count": null,
   "metadata": {},
   "outputs": [],
   "source": [
    "# df_test.shape"
   ]
  },
  {
   "cell_type": "code",
   "execution_count": null,
   "metadata": {},
   "outputs": [],
   "source": [
    "# df_test = df_test.fillna(0)"
   ]
  },
  {
   "cell_type": "code",
   "execution_count": null,
   "metadata": {},
   "outputs": [],
   "source": [
    "# df_test.drop(ignore_col, axis=1, inplace=True)\n",
    "# df_test.shape"
   ]
  },
  {
   "cell_type": "code",
   "execution_count": null,
   "metadata": {},
   "outputs": [],
   "source": [
    "# df_test['FRS_BU']=df_test['FRS_BU'].astype('object')\n",
    "# df_test['FRS_AFFL_CD']=df_test['FRS_AFFL_CD'].astype('object')\n",
    "# df_test['FRS_BU_LGL_CD']=df_test['FRS_BU_LGL_CD'].astype('object')\n",
    "# df_test['LN_RATE_RSET_PERD_INT_ID']=df_test['LN_RATE_RSET_PERD_INT_ID'].astype('object')\n",
    "# df_test['ENTRPS_PROD_CD']=df_test['ENTRPS_PROD_CD'].astype('object')\n",
    "# df_test['ACTG_UNIT_ID']=df_test['ACTG_UNIT_ID'].astype('object')"
   ]
  },
  {
   "cell_type": "code",
   "execution_count": null,
   "metadata": {},
   "outputs": [],
   "source": [
    "# categorical_Attributes_test = df_test.select_dtypes(include=['object']).columns\n",
    "# categorical_Attributes_test"
   ]
  },
  {
   "cell_type": "code",
   "execution_count": null,
   "metadata": {},
   "outputs": [],
   "source": [
    "# all_col_test = list(df_test.columns)\n",
    "# categorical_Attributes_test = list(categorical_Attributes_test)\n",
    "# numerical_Attributes_test = list(set(all_col_test) - set(categorical_Attributes_test))"
   ]
  },
  {
   "cell_type": "code",
   "execution_count": null,
   "metadata": {},
   "outputs": [],
   "source": [
    "# df_test[numerical_Attributes_test] = scaler.transform(df_test[numerical_Attributes_test])"
   ]
  },
  {
   "cell_type": "code",
   "execution_count": null,
   "metadata": {},
   "outputs": [],
   "source": [
    "# data_dummies_test = pd.get_dummies(columns=categorical_Attributes_test, data=df_test, prefix=categorical_Attributes_test, prefix_sep=\"_\",drop_first=False)"
   ]
  },
  {
   "cell_type": "code",
   "execution_count": null,
   "metadata": {},
   "outputs": [],
   "source": [
    "# data_dummies_test.reindex(columns = data_dummies_X.columns, fill_value=0)"
   ]
  },
  {
   "cell_type": "markdown",
   "metadata": {},
   "source": [
    "# Standardization data"
   ]
  },
  {
   "cell_type": "code",
   "execution_count": null,
   "metadata": {},
   "outputs": [],
   "source": [
    "# from sklearn.preprocessing import Normalizer\n",
    "# from sklearn.preprocessing import MinMaxScaler\n",
    "# from sklearn.preprocessing import StandardScaler"
   ]
  },
  {
   "cell_type": "code",
   "execution_count": null,
   "metadata": {},
   "outputs": [],
   "source": [
    "# scaler = MinMaxScaler()"
   ]
  },
  {
   "cell_type": "code",
   "execution_count": null,
   "metadata": {
    "scrolled": false
   },
   "outputs": [],
   "source": [
    "# scaler.fit(df_float_int)"
   ]
  },
  {
   "cell_type": "code",
   "execution_count": null,
   "metadata": {},
   "outputs": [],
   "source": [
    "# df_scaled = scaler.transform(df_float_int)\n",
    "# df_scaled = pd.DataFrame(df_scaled, columns = list(df_float_int.columns))"
   ]
  },
  {
   "cell_type": "code",
   "execution_count": null,
   "metadata": {
    "scrolled": true
   },
   "outputs": [],
   "source": [
    "# df_scaled"
   ]
  },
  {
   "cell_type": "code",
   "execution_count": null,
   "metadata": {},
   "outputs": [],
   "source": [
    "# df_total = pd.concat([df_scaled,df_obj],axis = 1)"
   ]
  },
  {
   "cell_type": "code",
   "execution_count": null,
   "metadata": {},
   "outputs": [],
   "source": [
    "# df_total.drop(['LOSS_MITG_STRT_DT', 'LN_ARRG_FIN_STA_DT','ARRG_BUS_INTENT_DT'],axis = 1,inplace = True)"
   ]
  },
  {
   "cell_type": "markdown",
   "metadata": {},
   "source": [
    "# One hot encoding using Scikit-learn"
   ]
  },
  {
   "cell_type": "code",
   "execution_count": null,
   "metadata": {},
   "outputs": [],
   "source": [
    "# from sklearn.preprocessing import OneHotEncoder"
   ]
  },
  {
   "cell_type": "code",
   "execution_count": null,
   "metadata": {},
   "outputs": [],
   "source": [
    "# df_obj.drop(['LOSS_MITG_STRT_DT', 'LN_ARRG_FIN_STA_DT','ARRG_BUS_INTENT_DT'],axis = 1,inplace = True)"
   ]
  },
  {
   "cell_type": "code",
   "execution_count": null,
   "metadata": {},
   "outputs": [],
   "source": [
    "# df_obj.head()"
   ]
  },
  {
   "cell_type": "code",
   "execution_count": null,
   "metadata": {},
   "outputs": [],
   "source": [
    "# enc = OneHotEncoder()"
   ]
  },
  {
   "cell_type": "code",
   "execution_count": null,
   "metadata": {},
   "outputs": [],
   "source": [
    "# enc.fit(df_obj)"
   ]
  },
  {
   "cell_type": "code",
   "execution_count": null,
   "metadata": {},
   "outputs": [],
   "source": []
  }
 ],
 "metadata": {
  "kernelspec": {
   "display_name": "Python 3",
   "language": "python",
   "name": "python3"
  },
  "language_info": {
   "codemirror_mode": {
    "name": "ipython",
    "version": 3
   },
   "file_extension": ".py",
   "mimetype": "text/x-python",
   "name": "python",
   "nbconvert_exporter": "python",
   "pygments_lexer": "ipython3",
   "version": "3.6.5"
  }
 },
 "nbformat": 4,
 "nbformat_minor": 2
}
